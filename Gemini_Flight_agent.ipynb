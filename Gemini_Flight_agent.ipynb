{
  "cells": [
    {
      "cell_type": "markdown",
      "metadata": {
        "id": "view-in-github",
        "colab_type": "text"
      },
      "source": [
        "<a href=\"https://colab.research.google.com/github/Madhu-712/LLM-Agents-MOOC-Hackathon-/blob/main/Gemini_Flight_agent.ipynb\" target=\"_parent\"><img src=\"https://colab.research.google.com/assets/colab-badge.svg\" alt=\"Open In Colab\"/></a>"
      ]
    },
    {
      "cell_type": "markdown",
      "source": [
        "#langchain Agents\n",
        "Agents are autonomous system which takes an action in an environment by using the right set of tools that are made available and makescomplex reasoning and decisions making while executing the task seamlessly."
      ],
      "metadata": {
        "id": "vXivRCCFJimU"
      }
    },
    {
      "cell_type": "code",
      "execution_count": null,
      "metadata": {
        "id": "RXInneX6xx7c"
      },
      "outputs": [],
      "source": [
        "!pip install -U -q \"google-generativeai>=0.8.2\""
      ]
    },
    {
      "cell_type": "code",
      "source": [
        "!pip install -qU langchain-google-vertexai"
      ],
      "metadata": {
        "id": "AjP9__XMBqb6",
        "colab": {
          "base_uri": "https://localhost:8080/"
        },
        "outputId": "f22f8c15-9dde-4bbc-b491-f5b8aee5a345"
      },
      "execution_count": 1,
      "outputs": [
        {
          "output_type": "stream",
          "name": "stdout",
          "text": [
            "\u001b[2K     \u001b[90m━━━━━━━━━━━━━━━━━━━━━━━━━━━━━━━━━━━━━━━━\u001b[0m \u001b[32m149.4/149.4 kB\u001b[0m \u001b[31m3.9 MB/s\u001b[0m eta \u001b[36m0:00:00\u001b[0m\n",
            "\u001b[2K   \u001b[90m━━━━━━━━━━━━━━━━━━━━━━━━━━━━━━━━━━━━━━━━\u001b[0m \u001b[32m90.5/90.5 kB\u001b[0m \u001b[31m6.7 MB/s\u001b[0m eta \u001b[36m0:00:00\u001b[0m\n",
            "\u001b[2K   \u001b[90m━━━━━━━━━━━━━━━━━━━━━━━━━━━━━━━━━━━━━━━━\u001b[0m \u001b[32m131.8/131.8 kB\u001b[0m \u001b[31m10.2 MB/s\u001b[0m eta \u001b[36m0:00:00\u001b[0m\n",
            "\u001b[2K   \u001b[90m━━━━━━━━━━━━━━━━━━━━━━━━━━━━━━━━━━━━━━━━\u001b[0m \u001b[32m76.4/76.4 kB\u001b[0m \u001b[31m5.8 MB/s\u001b[0m eta \u001b[36m0:00:00\u001b[0m\n",
            "\u001b[2K   \u001b[90m━━━━━━━━━━━━━━━━━━━━━━━━━━━━━━━━━━━━━━━━\u001b[0m \u001b[32m434.9/434.9 kB\u001b[0m \u001b[31m17.4 MB/s\u001b[0m eta \u001b[36m0:00:00\u001b[0m\n",
            "\u001b[2K   \u001b[90m━━━━━━━━━━━━━━━━━━━━━━━━━━━━━━━━━━━━━━━━\u001b[0m \u001b[32m2.1/2.1 MB\u001b[0m \u001b[31m53.7 MB/s\u001b[0m eta \u001b[36m0:00:00\u001b[0m\n",
            "\u001b[?25h"
          ]
        }
      ]
    },
    {
      "cell_type": "code",
      "source": [
        "%pip install -qU \"langchain-community>=0.2.11\" tavily-python"
      ],
      "metadata": {
        "colab": {
          "base_uri": "https://localhost:8080/"
        },
        "id": "vgEJt-iOI4Id",
        "outputId": "d2caadea-2124-48fa-c8a0-0cf0ff2c3f0b"
      },
      "execution_count": null,
      "outputs": [
        {
          "output_type": "stream",
          "name": "stdout",
          "text": [
            "\u001b[2K   \u001b[90m━━━━━━━━━━━━━━━━━━━━━━━━━━━━━━━━━━━━━━━━\u001b[0m \u001b[32m2.4/2.4 MB\u001b[0m \u001b[31m37.9 MB/s\u001b[0m eta \u001b[36m0:00:00\u001b[0m\n",
            "\u001b[2K   \u001b[90m━━━━━━━━━━━━━━━━━━━━━━━━━━━━━━━━━━━━━━━━\u001b[0m \u001b[32m1.2/1.2 MB\u001b[0m \u001b[31m46.6 MB/s\u001b[0m eta \u001b[36m0:00:00\u001b[0m\n",
            "\u001b[2K   \u001b[90m━━━━━━━━━━━━━━━━━━━━━━━━━━━━━━━━━━━━━━━━\u001b[0m \u001b[32m49.5/49.5 kB\u001b[0m \u001b[31m3.0 MB/s\u001b[0m eta \u001b[36m0:00:00\u001b[0m\n",
            "\u001b[?25h"
          ]
        }
      ]
    },
    {
      "cell_type": "markdown",
      "source": [
        "Tavily Tool"
      ],
      "metadata": {
        "id": "bPcl0dIOMGuY"
      }
    },
    {
      "cell_type": "markdown",
      "source": [
        "TavilySearchResults is a tool provided by LangChain that allows you to interact with the Tavily search engine. It's designed to retrieve information from the web."
      ],
      "metadata": {
        "id": "msOK8lNkGjbp"
      }
    },
    {
      "cell_type": "code",
      "source": [
        "\n",
        "import getpass\n",
        "import os\n",
        "\n",
        "if not os.environ.get(\"TAVILY_API_KEY\"):\n",
        "    os.environ[\"TAVILY_API_KEY\"] = getpass.getpass(\"Tavily API key:\\n\")"
      ],
      "metadata": {
        "colab": {
          "base_uri": "https://localhost:8080/"
        },
        "id": "KdUrdI_WMIq6",
        "outputId": "f22dc6e3-e999-4984-f447-5f69f6840647"
      },
      "execution_count": null,
      "outputs": [
        {
          "name": "stdout",
          "output_type": "stream",
          "text": [
            "Tavily API key:\n",
            "··········\n"
          ]
        }
      ]
    },
    {
      "cell_type": "code",
      "source": [
        "\n",
        "from langchain_community.tools import TavilySearchResults\n",
        "\n",
        "search_tool = TavilySearchResults(\n",
        "    max_results=5,\n",
        "    search_depth=\"advanced\",\n",
        "    include_answer=True,\n",
        "    include_raw_content=True,\n",
        "    include_images=True,\n",
        "    # include_domains=[...],\n",
        "    # exclude_domains=[...],\n",
        "    # name=\"...\",            # overwrite default tool name\n",
        "    # description=\"...\",     # overwrite default tool description\n",
        "    # args_schema=...,       # overwrite default args_schema: BaseModel\n",
        ")"
      ],
      "metadata": {
        "id": "0EQrfOHtMJI2"
      },
      "execution_count": null,
      "outputs": []
    },
    {
      "cell_type": "code",
      "source": [
        "TAVILY_API_URL =\"https://app.tavily.com/home?code=wIFJZe_yXGHNDomAS1TIzbiVIDSvhzPkcXzX3V9zQVSrk&state=eyJyZXR1cm5UbyI6Ii9ob21lIn0\""
      ],
      "metadata": {
        "id": "p2-3ZG6FPFzQ"
      },
      "execution_count": null,
      "outputs": []
    },
    {
      "cell_type": "code",
      "source": [
        "\n",
        "!pip install requests\n",
        "\n",
        "import requests\n",
        "\n",
        "from typing import Dict, Any\n",
        "from requests import Session\n",
        "\n",
        "#Function to get authorized session for making API request.\n",
        "\n",
        "\n",
        "def get_api_session() -> Session:\n",
        "    \"\"\"Returns a session object with the Tavily API key.\"\"\"\n",
        "    session = requests.Session()\n",
        "    session.headers.update({\"x-api-key\": os.environ[\"TAVILY_API_KEY\"]})\n",
        "    return session\n",
        "\n",
        "#Function to retrieve the flight information  using provided flight Id and API session.\n",
        "\n",
        "\n",
        "def fetch_flight_data(flight_id: str, session: Session) -> Dict[str, Any]:\n",
        "    \"\"\"Fetches flight data from the Tavily API.\"\"\"\n",
        "    api_resource = f\"/flights/{flight_id}/status\"\n",
        "    response = session.get(TAVILY_API_URL + api_resource)\n",
        "\n",
        "    # Check the response status code\n",
        "    if response.status_code != 200:\n",
        "        print(f\"Error: Tavily API request failed with status code {response.status_code}\")\n",
        "        print(f\"Response content: {response.content}\")  # Print the response content for debugging\n",
        "        raise ValueError(f\"Tavily API request failed\")  # Raise an exception to stop further processing\n",
        "\n",
        "    try:\n",
        "        return response.json()['flights'][0]\n",
        "    except (KeyError, IndexError) as e:\n",
        "        print(f\"Error: Could not extract flight data from JSON response: {e}\")\n",
        "        print(f\"Response content: {response.content}\")  # Print the response content for debugging\n",
        "        raise ValueError(f\"Invalid JSON response from Tavily API\")\n",
        "\n",
        "#Function to convert arrival and departure time to universal time coordinated.\n",
        "\n",
        "def utc_to_local(utc_datetime_str, local_timezone_str):\n",
        "    local_timezone = pytz.timezone(local_timezone_str)\n",
        "    utc_datetime = datetime.strptime(utc_datetime_str, \"%Y-%m-%dT%H:%M:%SZ\").replace(tzinfo=pytz.utc)\n",
        "    local_datetime = utc_datetime.astimezone(local_timezone)\n",
        "    return local_datetime.strftime(\"%Y-%m-%d %H:%M:%S\")"
      ],
      "metadata": {
        "colab": {
          "base_uri": "https://localhost:8080/"
        },
        "id": "w5NdK5vyScrp",
        "outputId": "fa82df6b-a1af-41dd-ed3d-682053122681"
      },
      "execution_count": null,
      "outputs": [
        {
          "output_type": "stream",
          "name": "stdout",
          "text": [
            "Requirement already satisfied: requests in /usr/local/lib/python3.10/dist-packages (2.32.3)\n",
            "Requirement already satisfied: charset-normalizer<4,>=2 in /usr/local/lib/python3.10/dist-packages (from requests) (3.4.0)\n",
            "Requirement already satisfied: idna<4,>=2.5 in /usr/local/lib/python3.10/dist-packages (from requests) (3.10)\n",
            "Requirement already satisfied: urllib3<3,>=1.21.1 in /usr/local/lib/python3.10/dist-packages (from requests) (2.2.3)\n",
            "Requirement already satisfied: certifi>=2017.4.17 in /usr/local/lib/python3.10/dist-packages (from requests) (2024.8.30)\n"
          ]
        }
      ]
    },
    {
      "cell_type": "code",
      "source": [
        "from langchain.tools import tool"
      ],
      "metadata": {
        "id": "2fUCE4CZPvSh"
      },
      "execution_count": null,
      "outputs": []
    },
    {
      "cell_type": "code",
      "source": [
        "\n",
        "@tool #decorator which is marking the function  as a tool\n",
        "def get_flight_status(flight_id: str):\n",
        "    \"\"\"Returns Flight Information.\"\"\"# doc string which gives brief description of functions purpose.\n",
        "    session = get_api_session()\n",
        "    flight_data = fetch_flight_data(flight_id, session)# (eg \"EK203\").\n",
        "\n",
        "    dep_key = \"estimatedOut\" if \"estimatedOut\" in flight_data and flight_data[\"estimatedOut\"] else \\\n",
        "              \"actualOut\" if \"actualOut\" in flight_data and flight_data[\"actualOut\"] else \\\n",
        "              \"scheduledOut\"\n",
        "\n",
        "    arr_key = \"estimatedIn\" if \"estimatedIn\" in flight_data and flight_data[\"estimatedIn\"] else \\\n",
        "              \"actualIn\" if \"actualIn\" in flight_data and flight_data[\"actualIn\"] else \\\n",
        "              \"scheduledIn\"\n",
        "\n",
        "    flight_details = {\n",
        "        \"source\": flight_data[\"origin\"][\"city\"],\n",
        "        \"destination\": flight_data[\"destination\"][\"city\"],\n",
        "        \"depart_time\": utc_to_local(flight_data.get(dep_key), flight_data[\"origin\"][\"timezone\"]),\n",
        "        \"arrival_time\": utc_to_local(flight_data.get(arr_key), flight_data[\"destination\"][\"timezone\"]),\n",
        "        \"status\": flight_data[\"status\"]\n",
        "    }\n",
        "\n",
        "    return f\"\"\"The current status of flight {flight_id} from {flight_details[\"source\"]} to {flight_details[\"destination\"]} is {flight_details[\"status\"]} with the departure time as {flight_details[\"depart_time\"]} and arrival time as {flight_details[\"arrival_time\"]}\"\"\""
      ],
      "metadata": {
        "id": "FDgZHDIkPXSW"
      },
      "execution_count": null,
      "outputs": []
    },
    {
      "cell_type": "code",
      "source": [
        "from langchain.agents import initialize_agent, Tool\n",
        "from langchain.agents import AgentType"
      ],
      "metadata": {
        "id": "-tkHPe7l4Xoe"
      },
      "execution_count": null,
      "outputs": []
    },
    {
      "cell_type": "markdown",
      "source": [
        "This code snippet is focused on defining and configuring tools for a LangChain agent. Think of an agent as a smart assistant that can use various tools to get information or complete tasks"
      ],
      "metadata": {
        "id": "cMDVxDcPRiSy"
      }
    },
    {
      "cell_type": "markdown",
      "source": [
        "Tavily is a web search engine. This tool allows the agent to search the web for information"
      ],
      "metadata": {
        "id": "GOhHg04lR2qt"
      }
    },
    {
      "cell_type": "code",
      "source": [
        "\n",
        "#Tool is a class that represents a function\n",
        "Flight_status= Tool(\n",
        "    name=\"Flight info\",\n",
        "    func=get_flight_status.run,\n",
        "    description =\"useful to get flight status info like arrival, departure, source,destination\"\n",
        ")\n",
        "# Define the search tool\n",
        "search_tool = TavilySearchResults()\n",
        "\n",
        "# Include both tools in the list\n",
        "tools = [\n",
        "    search_tool,  # The search tool\n",
        "    Flight_status # The retriever\n",
        "]"
      ],
      "metadata": {
        "id": "BBvVl1VHNQWi"
      },
      "execution_count": null,
      "outputs": []
    },
    {
      "cell_type": "code",
      "source": [
        "tools"
      ],
      "metadata": {
        "colab": {
          "base_uri": "https://localhost:8080/"
        },
        "id": "59-MeuRdP3Sn",
        "outputId": "9de5d3c1-78d1-436a-c433-31b5f3e57678"
      },
      "execution_count": null,
      "outputs": [
        {
          "output_type": "execute_result",
          "data": {
            "text/plain": [
              "[TavilySearchResults(api_wrapper=TavilySearchAPIWrapper(tavily_api_key=SecretStr('**********'))),\n",
              " Tool(name='Flight info', description='useful to get flight status info like arrival, departure, source,destination', func=<bound method BaseTool.run of StructuredTool(name='get_flight_status', description='Returns Flight Information.', args_schema=<class 'langchain_core.utils.pydantic.get_flight_status'>, func=<function get_flight_status at 0x7c9b73d7d2d0>)>)]"
            ]
          },
          "metadata": {},
          "execution_count": 40
        }
      ]
    },
    {
      "cell_type": "code",
      "source": [
        "#imports\n",
        "from langchain.prompts import PromptTemplate\n",
        "from langchain.agents import load_tools\n",
        "from langchain.agents import initialize_agent\n",
        "from langchain.agents import AgentType"
      ],
      "metadata": {
        "id": "8RjSD2MvQNDn"
      },
      "execution_count": null,
      "outputs": []
    },
    {
      "cell_type": "code",
      "source": [
        "tool_names = [tool.name for tool in tools]  # Get the tool names"
      ],
      "metadata": {
        "id": "h6wjno4-QNuZ"
      },
      "execution_count": null,
      "outputs": []
    },
    {
      "cell_type": "code",
      "source": [
        "tool_names"
      ],
      "metadata": {
        "colab": {
          "base_uri": "https://localhost:8080/"
        },
        "id": "J5AP2XS4QONu",
        "outputId": "22d73424-e8d8-467a-96b3-d7a9babab575"
      },
      "execution_count": null,
      "outputs": [
        {
          "output_type": "execute_result",
          "data": {
            "text/plain": [
              "['tavily_search_results_json', 'Flight info']"
            ]
          },
          "metadata": {},
          "execution_count": 43
        }
      ]
    },
    {
      "cell_type": "code",
      "source": [
        "prompt = PromptTemplate(#Gives structure to the prompt\n",
        "    template=\"\"\"Answer the following questions as best as you can. You have access to the following tools: {tool_names}\n",
        "\n",
        "{input}  # user query\n",
        "{agent_scratchpad}\"\"\",# stores intermediate steps,thoughts ,action,result  which the agent generates to answer the question.\n",
        "    input_variables=[\"input\", \"tool_names\", \"agent_scratchpad\"],\n",
        ")"
      ],
      "metadata": {
        "id": "qg7LLQrcQbkI"
      },
      "execution_count": null,
      "outputs": []
    },
    {
      "cell_type": "code",
      "source": [
        "from google.colab import userdata\n",
        "#os.environ[\"TAVILY_API_KEY\"] = userdata.get(\"TAVILY_API_KEY\")\n",
        "os.environ[\"GOOGLE_API_KEY\"] = userdata.get(\"GOOGLE_API_KEY\")"
      ],
      "metadata": {
        "id": "6_Tg0oN1Q8Rt"
      },
      "execution_count": null,
      "outputs": []
    },
    {
      "cell_type": "markdown",
      "source": [
        "Userdata is a way to store persistent data within a Google Colab environment. This is often used for things like API keys that you don't want to hardcode into your notebook."
      ],
      "metadata": {
        "id": "JCwi2qn9TNQY"
      }
    },
    {
      "cell_type": "code",
      "source": [
        "!pip install google-generativeai langchain langchain-google-genai tavily-python"
      ],
      "metadata": {
        "colab": {
          "base_uri": "https://localhost:8080/"
        },
        "id": "XtR6Q1rGRdwp",
        "outputId": "a6eb600f-4967-4468-d43c-dd63ce214c4a"
      },
      "execution_count": null,
      "outputs": [
        {
          "output_type": "stream",
          "name": "stdout",
          "text": [
            "Requirement already satisfied: google-generativeai in /usr/local/lib/python3.10/dist-packages (0.8.3)\n",
            "Requirement already satisfied: langchain in /usr/local/lib/python3.10/dist-packages (0.3.9)\n",
            "Collecting langchain-google-genai\n",
            "  Downloading langchain_google_genai-2.0.6-py3-none-any.whl.metadata (3.6 kB)\n",
            "Requirement already satisfied: tavily-python in /usr/local/lib/python3.10/dist-packages (0.5.0)\n",
            "Requirement already satisfied: google-ai-generativelanguage==0.6.10 in /usr/local/lib/python3.10/dist-packages (from google-generativeai) (0.6.10)\n",
            "Requirement already satisfied: google-api-core in /usr/local/lib/python3.10/dist-packages (from google-generativeai) (2.19.2)\n",
            "Requirement already satisfied: google-api-python-client in /usr/local/lib/python3.10/dist-packages (from google-generativeai) (2.151.0)\n",
            "Requirement already satisfied: google-auth>=2.15.0 in /usr/local/lib/python3.10/dist-packages (from google-generativeai) (2.27.0)\n",
            "Requirement already satisfied: protobuf in /usr/local/lib/python3.10/dist-packages (from google-generativeai) (4.25.5)\n",
            "Requirement already satisfied: pydantic in /usr/local/lib/python3.10/dist-packages (from google-generativeai) (2.9.2)\n",
            "Requirement already satisfied: tqdm in /usr/local/lib/python3.10/dist-packages (from google-generativeai) (4.66.6)\n",
            "Requirement already satisfied: typing-extensions in /usr/local/lib/python3.10/dist-packages (from google-generativeai) (4.12.2)\n",
            "Requirement already satisfied: proto-plus<2.0.0dev,>=1.22.3 in /usr/local/lib/python3.10/dist-packages (from google-ai-generativelanguage==0.6.10->google-generativeai) (1.25.0)\n",
            "Requirement already satisfied: PyYAML>=5.3 in /usr/local/lib/python3.10/dist-packages (from langchain) (6.0.2)\n",
            "Requirement already satisfied: SQLAlchemy<3,>=1.4 in /usr/local/lib/python3.10/dist-packages (from langchain) (2.0.36)\n",
            "Requirement already satisfied: aiohttp<4.0.0,>=3.8.3 in /usr/local/lib/python3.10/dist-packages (from langchain) (3.11.9)\n",
            "Requirement already satisfied: async-timeout<5.0.0,>=4.0.0 in /usr/local/lib/python3.10/dist-packages (from langchain) (4.0.3)\n",
            "Requirement already satisfied: langchain-core<0.4.0,>=0.3.21 in /usr/local/lib/python3.10/dist-packages (from langchain) (0.3.21)\n",
            "Requirement already satisfied: langchain-text-splitters<0.4.0,>=0.3.0 in /usr/local/lib/python3.10/dist-packages (from langchain) (0.3.2)\n",
            "Requirement already satisfied: langsmith<0.2.0,>=0.1.17 in /usr/local/lib/python3.10/dist-packages (from langchain) (0.1.147)\n",
            "Requirement already satisfied: numpy<2,>=1.22.4 in /usr/local/lib/python3.10/dist-packages (from langchain) (1.26.4)\n",
            "Requirement already satisfied: requests<3,>=2 in /usr/local/lib/python3.10/dist-packages (from langchain) (2.32.3)\n",
            "Requirement already satisfied: tenacity!=8.4.0,<10,>=8.1.0 in /usr/local/lib/python3.10/dist-packages (from langchain) (9.0.0)\n",
            "Collecting filetype<2.0.0,>=1.2.0 (from langchain-google-genai)\n",
            "  Downloading filetype-1.2.0-py2.py3-none-any.whl.metadata (6.5 kB)\n",
            "Requirement already satisfied: tiktoken>=0.5.1 in /usr/local/lib/python3.10/dist-packages (from tavily-python) (0.8.0)\n",
            "Requirement already satisfied: httpx in /usr/local/lib/python3.10/dist-packages (from tavily-python) (0.27.2)\n",
            "Requirement already satisfied: aiohappyeyeballs>=2.3.0 in /usr/local/lib/python3.10/dist-packages (from aiohttp<4.0.0,>=3.8.3->langchain) (2.4.4)\n",
            "Requirement already satisfied: aiosignal>=1.1.2 in /usr/local/lib/python3.10/dist-packages (from aiohttp<4.0.0,>=3.8.3->langchain) (1.3.1)\n",
            "Requirement already satisfied: attrs>=17.3.0 in /usr/local/lib/python3.10/dist-packages (from aiohttp<4.0.0,>=3.8.3->langchain) (24.2.0)\n",
            "Requirement already satisfied: frozenlist>=1.1.1 in /usr/local/lib/python3.10/dist-packages (from aiohttp<4.0.0,>=3.8.3->langchain) (1.5.0)\n",
            "Requirement already satisfied: multidict<7.0,>=4.5 in /usr/local/lib/python3.10/dist-packages (from aiohttp<4.0.0,>=3.8.3->langchain) (6.1.0)\n",
            "Requirement already satisfied: propcache>=0.2.0 in /usr/local/lib/python3.10/dist-packages (from aiohttp<4.0.0,>=3.8.3->langchain) (0.2.1)\n",
            "Requirement already satisfied: yarl<2.0,>=1.17.0 in /usr/local/lib/python3.10/dist-packages (from aiohttp<4.0.0,>=3.8.3->langchain) (1.18.3)\n",
            "Requirement already satisfied: googleapis-common-protos<2.0.dev0,>=1.56.2 in /usr/local/lib/python3.10/dist-packages (from google-api-core->google-generativeai) (1.66.0)\n",
            "Requirement already satisfied: cachetools<6.0,>=2.0.0 in /usr/local/lib/python3.10/dist-packages (from google-auth>=2.15.0->google-generativeai) (5.5.0)\n",
            "Requirement already satisfied: pyasn1-modules>=0.2.1 in /usr/local/lib/python3.10/dist-packages (from google-auth>=2.15.0->google-generativeai) (0.4.1)\n",
            "Requirement already satisfied: rsa<5,>=3.1.4 in /usr/local/lib/python3.10/dist-packages (from google-auth>=2.15.0->google-generativeai) (4.9)\n",
            "Requirement already satisfied: jsonpatch<2.0,>=1.33 in /usr/local/lib/python3.10/dist-packages (from langchain-core<0.4.0,>=0.3.21->langchain) (1.33)\n",
            "Requirement already satisfied: packaging<25,>=23.2 in /usr/local/lib/python3.10/dist-packages (from langchain-core<0.4.0,>=0.3.21->langchain) (24.2)\n",
            "Requirement already satisfied: orjson<4.0.0,>=3.9.14 in /usr/local/lib/python3.10/dist-packages (from langsmith<0.2.0,>=0.1.17->langchain) (3.10.12)\n",
            "Requirement already satisfied: requests-toolbelt<2.0.0,>=1.0.0 in /usr/local/lib/python3.10/dist-packages (from langsmith<0.2.0,>=0.1.17->langchain) (1.0.0)\n",
            "Requirement already satisfied: anyio in /usr/local/lib/python3.10/dist-packages (from httpx->tavily-python) (3.7.1)\n",
            "Requirement already satisfied: certifi in /usr/local/lib/python3.10/dist-packages (from httpx->tavily-python) (2024.8.30)\n",
            "Requirement already satisfied: httpcore==1.* in /usr/local/lib/python3.10/dist-packages (from httpx->tavily-python) (1.0.7)\n",
            "Requirement already satisfied: idna in /usr/local/lib/python3.10/dist-packages (from httpx->tavily-python) (3.10)\n",
            "Requirement already satisfied: sniffio in /usr/local/lib/python3.10/dist-packages (from httpx->tavily-python) (1.3.1)\n",
            "Requirement already satisfied: h11<0.15,>=0.13 in /usr/local/lib/python3.10/dist-packages (from httpcore==1.*->httpx->tavily-python) (0.14.0)\n",
            "Requirement already satisfied: annotated-types>=0.6.0 in /usr/local/lib/python3.10/dist-packages (from pydantic->google-generativeai) (0.7.0)\n",
            "Requirement already satisfied: pydantic-core==2.23.4 in /usr/local/lib/python3.10/dist-packages (from pydantic->google-generativeai) (2.23.4)\n",
            "Requirement already satisfied: charset-normalizer<4,>=2 in /usr/local/lib/python3.10/dist-packages (from requests<3,>=2->langchain) (3.4.0)\n",
            "Requirement already satisfied: urllib3<3,>=1.21.1 in /usr/local/lib/python3.10/dist-packages (from requests<3,>=2->langchain) (2.2.3)\n",
            "Requirement already satisfied: greenlet!=0.4.17 in /usr/local/lib/python3.10/dist-packages (from SQLAlchemy<3,>=1.4->langchain) (3.1.1)\n",
            "Requirement already satisfied: regex>=2022.1.18 in /usr/local/lib/python3.10/dist-packages (from tiktoken>=0.5.1->tavily-python) (2024.9.11)\n",
            "Requirement already satisfied: httplib2<1.dev0,>=0.19.0 in /usr/local/lib/python3.10/dist-packages (from google-api-python-client->google-generativeai) (0.22.0)\n",
            "Requirement already satisfied: google-auth-httplib2<1.0.0,>=0.2.0 in /usr/local/lib/python3.10/dist-packages (from google-api-python-client->google-generativeai) (0.2.0)\n",
            "Requirement already satisfied: uritemplate<5,>=3.0.1 in /usr/local/lib/python3.10/dist-packages (from google-api-python-client->google-generativeai) (4.1.1)\n",
            "Requirement already satisfied: grpcio<2.0dev,>=1.33.2 in /usr/local/lib/python3.10/dist-packages (from google-api-core[grpc]!=2.0.*,!=2.1.*,!=2.10.*,!=2.2.*,!=2.3.*,!=2.4.*,!=2.5.*,!=2.6.*,!=2.7.*,!=2.8.*,!=2.9.*,<3.0.0dev,>=1.34.1->google-ai-generativelanguage==0.6.10->google-generativeai) (1.68.1)\n",
            "Requirement already satisfied: grpcio-status<2.0.dev0,>=1.33.2 in /usr/local/lib/python3.10/dist-packages (from google-api-core[grpc]!=2.0.*,!=2.1.*,!=2.10.*,!=2.2.*,!=2.3.*,!=2.4.*,!=2.5.*,!=2.6.*,!=2.7.*,!=2.8.*,!=2.9.*,<3.0.0dev,>=1.34.1->google-ai-generativelanguage==0.6.10->google-generativeai) (1.62.3)\n",
            "Requirement already satisfied: pyparsing!=3.0.0,!=3.0.1,!=3.0.2,!=3.0.3,<4,>=2.4.2 in /usr/local/lib/python3.10/dist-packages (from httplib2<1.dev0,>=0.19.0->google-api-python-client->google-generativeai) (3.2.0)\n",
            "Requirement already satisfied: jsonpointer>=1.9 in /usr/local/lib/python3.10/dist-packages (from jsonpatch<2.0,>=1.33->langchain-core<0.4.0,>=0.3.21->langchain) (3.0.0)\n",
            "Requirement already satisfied: pyasn1<0.7.0,>=0.4.6 in /usr/local/lib/python3.10/dist-packages (from pyasn1-modules>=0.2.1->google-auth>=2.15.0->google-generativeai) (0.6.1)\n",
            "Requirement already satisfied: exceptiongroup in /usr/local/lib/python3.10/dist-packages (from anyio->httpx->tavily-python) (1.2.2)\n",
            "Downloading langchain_google_genai-2.0.6-py3-none-any.whl (41 kB)\n",
            "\u001b[2K   \u001b[90m━━━━━━━━━━━━━━━━━━━━━━━━━━━━━━━━━━━━━━━━\u001b[0m \u001b[32m41.3/41.3 kB\u001b[0m \u001b[31m2.2 MB/s\u001b[0m eta \u001b[36m0:00:00\u001b[0m\n",
            "\u001b[?25hDownloading filetype-1.2.0-py2.py3-none-any.whl (19 kB)\n",
            "Installing collected packages: filetype, langchain-google-genai\n",
            "Successfully installed filetype-1.2.0 langchain-google-genai-2.0.6\n"
          ]
        }
      ]
    },
    {
      "cell_type": "markdown",
      "source": [
        "The language model provides the agent  ability to understand and generate text."
      ],
      "metadata": {
        "id": "s9NBdcOrTkh2"
      }
    },
    {
      "cell_type": "code",
      "source": [
        "\n",
        "from langchain_google_genai import GoogleGenerativeAI\n",
        "import os\n",
        "#llm = GoogleGenerativeAI(model=\"gemini-1.5-pro\", google_api_key=os.environ[\"GOOGLE_API_KEY\"])\n",
        "llm = GoogleGenerativeAI(model=\"gemini-1.5-flash\", google_api_key=os.environ[\"GOOGLE_API_KEY\"])"
      ],
      "metadata": {
        "id": "_RdOu2e2RHLr"
      },
      "execution_count": null,
      "outputs": []
    },
    {
      "cell_type": "markdown",
      "source": [
        "ZERO_SHOT_REACT_DESCRIPTION is a specific strategy that guides how the agent selects and uses tools to address user queries. It's called \"zero-shot\" because it doesn't require prior examples or training to make decisions."
      ],
      "metadata": {
        "id": "RXNgqcteT667"
      }
    },
    {
      "cell_type": "code",
      "source": [
        "\n",
        "#initialize an agent\n",
        "agent = initialize_agent(\n",
        "    tools,\n",
        "    llm,\n",
        "    agent=AgentType.ZERO_SHOT_REACT_DESCRIPTION,\n",
        "    verbose=True\n",
        ")"
      ],
      "metadata": {
        "id": "ZIcHFcweQmzM",
        "colab": {
          "base_uri": "https://localhost:8080/"
        },
        "outputId": "8a67f22d-43ba-415a-c9ca-80a8d85725b4"
      },
      "execution_count": null,
      "outputs": [
        {
          "output_type": "stream",
          "name": "stderr",
          "text": [
            "<ipython-input-23-017a5d6629e3>:2: LangChainDeprecationWarning: LangChain agents will continue to be supported, but it is recommended for new use cases to be built with LangGraph. LangGraph offers a more flexible and full-featured framework for building agents, including support for tool-calling, persistence of state, and human-in-the-loop workflows. See LangGraph documentation for more details: https://langchain-ai.github.io/langgraph/. Refer here for its pre-built ReAct agent: https://langchain-ai.github.io/langgraph/how-tos/create-react-agent/\n",
            "  agent = initialize_agent(\n"
          ]
        }
      ]
    },
    {
      "cell_type": "markdown",
      "source": [
        "This code snippet is where the LangChain agent is put into action to answer a user's question."
      ],
      "metadata": {
        "id": "xaneKBcVUU3j"
      }
    },
    {
      "cell_type": "markdown",
      "source": [
        "Let's start with simple queries"
      ],
      "metadata": {
        "id": "MANv0omujTK-"
      }
    },
    {
      "cell_type": "code",
      "source": [
        "agent_scratchpad = \"\"\n",
        "user_input = \"Whats the source and destination of EK24 flight ?\"\n",
        "\n",
        "final_prompt = prompt.format(input=user_input, tool_names=tool_names, agent_scratchpad=agent_scratchpad) # Include tool_names\n",
        "\n",
        "print(agent.run(final_prompt))"
      ],
      "metadata": {
        "colab": {
          "base_uri": "https://localhost:8080/"
        },
        "id": "Z2SnilHyaLyu",
        "outputId": "1407190d-c28a-4732-86cc-2b78225d76ec"
      },
      "execution_count": null,
      "outputs": [
        {
          "output_type": "stream",
          "name": "stdout",
          "text": [
            "\n",
            "\n",
            "\u001b[1m> Entering new AgentExecutor chain...\u001b[0m\n",
            "\u001b[32;1m\u001b[1;3mThought: I need to find the source and destination of flight EK24.  The best tool for this is tavily_search_results_json, as it's a search engine.  I'll query it for information about flight EK24.\n",
            "\n",
            "Action: tavily_search_results_json\n",
            "Action Input: \"EK24 flight source and destination\"\n",
            "\u001b[0m\n",
            "Observation: \u001b[36;1m\u001b[1;3m[{'url': 'https://www.radarbox.com/data/flights/ek24', 'content': 'Flight EK24 / UAE24 - Emirates - AirNav RadarBox Database - Live Flight Tracker, Status, History, Route, Replay, Status, Airports Arrivals Departures ... Source-Station-FIR. Aircraft Info. Aircraft Model. Boeing 777-36NER. Registration. A6-EBN. Mode-S. 8960D5. ... Destination STA Aircraft Delay Status Duration Replay; 2020 23 Mar: Edinburgh'}, {'url': 'https://www.flightstats.com/v2/flight-tracker/EK/024', 'content': 'EK24 Flight Tracker - Track the real-time flight status of Emirates EK 24 live using the FlightStats Global Flight Tracker. See if your flight has been delayed or cancelled and track the live position on a map. ... Destination. Arrival Time. 20:40 GMT. EDI. Edinburgh. DXB. Dubai. 08:05 +04.'}, {'url': 'https://airportinfo.live/flight/ek24', 'content': 'Emirates EK24 / UAE24 Flight details & Flight status. The international Emirates flight EK24 / UAE24 departs from Edinburgh [EDI], Scotland, United Kingdom and flies to Dubai [DXB], United Arab Emirates.. The estimated flight duration is 11:25 hours and the distance is 5774 kilometers.. Departure is today 12/1/2024 at 20:40 GMT at Edinburgh from .. Scheduled EK24 / UAE24 arrival is today 12/01'}, {'url': 'https://flight-status.com/ek-24', 'content': \"Emirates EK24 flight status from Edinburgh to Dubai, United Arab Emirates now. International flight Emirates EK24 takes off from Edinburgh (EDI) United Kingdom to Dubai (DXB) United Arab Emirates. It's operated by Emirates. The plane leaves Edinburgh Airport at 20:15 Europe/London. The flight is expected to land at Dubai Airport at 06:40 Asia/Dubai. The flight will last about 6 hours 47 minutes.\"}, {'url': 'https://www.ixigo.com/airlines/emirates-ek/ek-24-flight-status', 'content': 'Track Emirates EK 24 flight status from Edinburgh to Dubai live! Access real-time status, including departure and arrival times, delays, baggage belt, boarding gate and critical flight updates. ... Destination Weather. Clear. Clear skies at night in Dubai. 27°C. AQI 66 +4h Timezone Difference. Time. 08:05. Sat, 30 Nov. Local Time (GMT) 04:05.'}]\u001b[0m\n",
            "Thought:\u001b[32;1m\u001b[1;3mThought:The tavily_search_results_json results show conflicting information. Some sources say the flight originates in Edinburgh (EDI) and goes to Dubai (DXB), while others have different information.  I'll need to consolidate and choose the most consistent information.\n",
            "\n",
            "Thought: I will prioritize results from reputable flight tracking websites.\n",
            "\n",
            "Thought:Based on the majority of the results from reputable sources like FlightStats and Airportinfo, the source is Edinburgh (EDI) and the destination is Dubai (DXB).\n",
            "\n",
            "Thought:I now know the final answer.\n",
            "\n",
            "Final Answer:The source of flight EK24 is Edinburgh (EDI) and the destination is Dubai (DXB).\n",
            "\u001b[0m\n",
            "\n",
            "\u001b[1m> Finished chain.\u001b[0m\n",
            "The source of flight EK24 is Edinburgh (EDI) and the destination is Dubai (DXB).\n"
          ]
        }
      ]
    },
    {
      "cell_type": "code",
      "source": [
        "agent_scratchpad = \"\"\n",
        "user_input = \"If EK565 flight left source by 1pm and journey is 4 hrs to destination.What time it has arrived at the destination airport and state its source and destination airports?\"\n",
        "\n",
        "final_prompt = prompt.format(input=user_input, tool_names=tool_names, agent_scratchpad=agent_scratchpad) # Include tool_names\n",
        "\n",
        "print(agent.run(final_prompt))"
      ],
      "metadata": {
        "colab": {
          "base_uri": "https://localhost:8080/"
        },
        "id": "3QhnF3cYQnXC",
        "outputId": "2f2a5120-7ecc-4c4f-b6ab-8b3fadd881e5"
      },
      "execution_count": null,
      "outputs": [
        {
          "output_type": "stream",
          "name": "stdout",
          "text": [
            "\n",
            "\n",
            "\u001b[1m> Entering new AgentExecutor chain...\u001b[0m\n",
            "\u001b[32;1m\u001b[1;3mThought:I need to use the Flight info tool to get the source and destination airports and then calculate the arrival time.  I don't have enough information to use the tool directly, as I only know the flight number and departure time.  I'll try to find the source and destination airports using a search engine first.\n",
            "\n",
            "Action: tavily_search_results_json\n",
            "Action Input: \"EK565 flight route\"\n",
            "\u001b[0m\n",
            "Observation: \u001b[36;1m\u001b[1;3m[{'url': 'https://www.flightera.net/en/flight/Emirates-Bangalore-Dubai/EK565', 'content': 'Emirates FLIGHT EK565 from Bangalore to Dubai. On-time Performance, delay statistics and flight information for EK565 LIVE TRACKING ... The route from Bangalore to Dubai is served by 2 airline(s) with 28 flights per week. Its weekly capacity is 43,341.'}, {'url': 'https://aviability.com/flight-number/flight-ek565-emirates', 'content': 'Emirates international flight EK565 connects India and United Arab Emirates, flying Bangalore (BLR) to Dubai (DXB). This flight takes off from Bangalore, Kempegowda Terminal 2 at 10:25 on November 26, landing at Dubai Terminal 3 at 13:00 on November 26. ... Route flights. Flights Bangalore Dubai; Flights Dubai Bangalore; Hotels. Dubai City'}, {'url': 'https://www.airportia.com/flights/ek565/bangalore/dubai/', 'content': 'How long is the EK565 flight from Bangalore to Dubai? ... EK565 Emirates Flight: Bangalore to Dubai Route Map. Flight Delay Compensation up to 600€/$: Claim for delay, cancellation, or baggage issues > New Flights: DL5583 F91969 XE8285 DL9758 F91943 G49552 AI2895 AI2918 MX8517 IU218.'}, {'url': 'https://planefinder.net/data/flight/EK565', 'content': 'EK565 (Emirates) - Live flight status, flight arrival and departure times for scheduled flights, and playback and flight routes for all historic flights recorded by Plane Finder.'}, {'url': 'https://www.radarbox.com/data/flights/ek565', 'content': 'Flight EK565 / UAE565 - Emirates - AirNav RadarBox Database - Live Flight Tracker, Status, History, Route, Replay, Status, Airports Arrivals Departures. Real-time flight tracking with one of the best and most accurate ADS-B coverage worldwide. Check airport arrivals and departures status and aircraft history.'}]\u001b[0m\n",
            "Thought:\u001b[32;1m\u001b[1;3mThought:I now have the source and destination airports from the search results.  EK565 flies from Bangalore (BLR) to Dubai (DXB). I can now calculate the arrival time.\n",
            "\n",
            "Action: None\n",
            "Action Input: None\u001b[0m\n",
            "Observation: None is not a valid tool, try one of [tavily_search_results_json, Flight info].\n",
            "Thought:\u001b[32;1m\u001b[1;3mQuestion: Answer the following questions as best as you can. You have access to the following tools: ['tavily_search_results_json', 'Flight info']\n",
            "\n",
            "If EK565 flight left source by 1pm and journey is 4 hrs to destination.What time it has arrived at the destination airport and state its source and destination  airports?\n",
            "\n",
            "Thought:I need to use the Flight info tool to get the source and destination airports and then calculate the arrival time.  I don't have enough information to use the tool directly, as I only know the flight number and departure time.  I'll try to find the source and destination airports using a search engine first.\n",
            "\n",
            "Action: tavily_search_results_json\n",
            "Action Input: \"EK565 flight route\"\n",
            "\u001b[0m\n",
            "Observation: \u001b[36;1m\u001b[1;3m[{'url': 'https://spotterlead.net/flights/EK565', 'content': 'Flight EK565 is an international flight operated by Emirates on route from Bengaluru (BLR), terminal 2 to Dubai (DXB), terminal 3. On November 13, 2024 this flight has status \"expected\" and it\\'s operated on Boeing 777-300ER. This flight is expected depart in Bangalore at 10:25 local time at gate C6.'}, {'url': 'https://www.flightera.net/en/flight/Emirates-Bangalore-Dubai/EK565', 'content': 'Emirates FLIGHT EK565 from Bangalore to Dubai. On-time Performance, delay statistics and flight information for EK565 LIVE TRACKING ... The route from Bangalore to Dubai is served by 2 airline(s) with 28 flights per week. Its weekly capacity is 43,341.'}, {'url': 'https://planefinder.net/data/flight/EK565', 'content': 'EK565 (Emirates) - Live flight status, flight arrival and departure times for scheduled flights, and playback and flight routes for all historic flights recorded by Plane Finder.'}, {'url': 'https://www.radarbox.com/data/flights/ek565', 'content': 'Flight EK565 / UAE565 - Emirates - AirNav RadarBox Database - Live Flight Tracker, Status, History, Route, Replay, Status, Airports Arrivals Departures. Real-time flight tracking with one of the best and most accurate ADS-B coverage worldwide. Check airport arrivals and departures status and aircraft history.'}, {'url': 'https://aviability.com/flight-number/flight-ek565-emirates', 'content': 'EK565 Emirates Flight - Aviability Airports Emirates flight EK565 Flight departure days Bangalore - Dubai (BLR-DXB) Emirates international flight EK565 connects India and United Arab Emirates, flying Bangalore (BLR) to Dubai (DXB). This flight takes off from Bangalore, Kempegowda Terminal 2 at 10:25 on December 4, landing at Dubai Terminal 3 at 13:00 on December 4. Flight time is 4h 05m. EK 565 Dubai (DXB) Flight duration: 4h 05m EK565 status Book flight Route flights Flights Bangalore ➜ Dubai Flights Dubai ➜ Bangalore Dubai City Dubai New search by flight number Flight number Origin airport Destination airport Flight EK565 Flug EK565 Vuelo EK565 Vol EK565 Vôo EK565 Volo EK565 Рейс EK565 航班 EK565 비행 EK565 飛行 EK565 航班 EK565'}]\u001b[0m\n",
            "Thought:\u001b[32;1m\u001b[1;3mThought:The search results confirm that EK565 flies from Bangalore (BLR) to Dubai (DXB).  The question states the flight left at 1 PM and the journey is 4 hours.  I can calculate the arrival time.\n",
            "\n",
            "Action: None\n",
            "Action Input: None\u001b[0m\n",
            "Observation: None is not a valid tool, try one of [tavily_search_results_json, Flight info].\n",
            "Thought:\u001b[32;1m\u001b[1;3mThought:The flight departed at 1:00 PM and the journey takes 4 hours. Therefore, the arrival time is 1:00 PM + 4 hours = 5:00 PM. The source airport is Bangalore (BLR) and the destination airport is Dubai (DXB).\n",
            "\n",
            "Final Answer: The flight arrived at 5:00 PM. The source airport is Bangalore (BLR) and the destination airport is Dubai (DXB).\n",
            "\u001b[0m\n",
            "\n",
            "\u001b[1m> Finished chain.\u001b[0m\n",
            "The flight arrived at 5:00 PM. The source airport is Bangalore (BLR) and the destination airport is Dubai (DXB).\n"
          ]
        }
      ]
    },
    {
      "cell_type": "code",
      "source": [
        "from langchain.prompts import PromptTemplate\n",
        "\n",
        "prompt = PromptTemplate(\n",
        "    input_variables=[\"input\", \"tool_names\", \"agent_scratchpad\"],\n",
        "    template=\"\"\"Answer the following question or follow the instructions using the available tools: {input}\n",
        "\n",
        "You have access to the following tools:\n",
        "\n",
        "{tool_names}\n",
        "\n",
        "Use the following format:\n",
        "{agent_scratchpad}\"\"\",\n",
        ")"
      ],
      "metadata": {
        "id": "KQUdDDLInfZn"
      },
      "execution_count": null,
      "outputs": []
    },
    {
      "cell_type": "markdown",
      "source": [
        "Increase the complexity of queries 😇😇\n",
        "which involves the use of complex decision making and reasoning ability of Agents."
      ],
      "metadata": {
        "id": "MfFQAn4ocgpY"
      }
    },
    {
      "cell_type": "code",
      "source": [
        "agent_scratchpad = \"\"\n",
        "user_input = (\"If I am arriving Hyderabad on 4th Dec,2024 by EK526 by 8.20 PM  from the source and it takes about 1hr to get luggages and getting home takes 2 hrs from airport. What time I should book a cab and when will I reach Home?\")\n",
        "\n",
        "final_prompt = prompt.format(input=user_input, tool_names=tool_names, agent_scratchpad=agent_scratchpad) # Include tool_names\n",
        "\n",
        "print(agent.run(final_prompt))"
      ],
      "metadata": {
        "colab": {
          "base_uri": "https://localhost:8080/"
        },
        "id": "ASG562g6pwzK",
        "outputId": "c4cc8d81-3cac-4113-d6bb-50ba463b2916"
      },
      "execution_count": null,
      "outputs": [
        {
          "output_type": "stream",
          "name": "stdout",
          "text": [
            "\n",
            "\n",
            "\u001b[1m> Entering new AgentExecutor chain...\u001b[0m\n",
            "\u001b[32;1m\u001b[1;3mThought:I need to determine the arrival time in Hyderabad to calculate the cab booking time and home arrival time.  I don't have a tool to directly get flight arrival time, but I can try to find the scheduled arrival time using a search engine.\n",
            "\n",
            "Action: tavily_search_results_json\n",
            "Action Input: \"EK526 flight schedule December 4th 2024 Hyderabad\"\n",
            "\u001b[0m\n",
            "Observation: \u001b[36;1m\u001b[1;3m[{'url': 'https://www.flightradar24.com/data/flights/ek526/', 'content': \"EK526 (Emirates) - Live flight status, scheduled flights, flight arrival and departure times, flight tracks and playback, flight route and airport. The world's most popular flight tracker. Track planes in real-time on our flight tracker map and get up-to-date flight status & airport information. ... 07 Dec 2024 : Dubai : Hyderabad\"}, {'url': 'https://www.airportia.com/flights/ek526/dubai/hyderabad/', 'content': 'Track EK526 from Dubai to Hyderabad: Emirates flight status, schedule, delay compensation, and real-time updates. ... (OTP) of Emirates Flight EK526 Dubai to Hyderabad? The Airportia On-Time Performance Rating for ... November 27th, 2024 with the flight status being . Scheduled on 08:25. How else can the flight EK526 be referenced as? This'}, {'url': 'https://www.planemapper.com/flights/EK526', 'content': 'Flight EK526 from Dubai to Hyderabad is operated by Emirates SkyCargo. Scheduled time of departure from Dubai Intl is 03:30 +04 and scheduled time of arrival in Hyderabad is 07:55 IST. ... (EK526 Flight Schedule) Dubai Intl (DXB/OMDB) Dubai, United Arab Emirates 03:30 +04 Wed 13-Nov-2024 : LATE 22 min +04 00:00:00 DAY Arrival (EK526 Flight'}, {'url': 'https://www.flightstats.com/v2/flight-tracker/EK/526', 'content': 'EK526 Flight Tracker - Track the real-time flight status of Emirates EK 526 live using the FlightStats Global Flight Tracker. ... Hyderabad Rajiv Gandhi International Airport. Flight Arrival Times. 27-Nov-2024. Scheduled. 08:25 IST. Actual. 08:45 IST. Terminal. MAIN. ... Flights for Sunday, 24-Nov-2024. Departure Time.'}, {'url': 'https://www.flightstats.com/v2/flight-details/EK/526', 'content': 'See all the details FlightStats has collected about flight Emirates EK 526 (DXB to HYD) including tail number, equipment information, and runway times ... Flight Gate Times. 20-Nov-2024. ... Actual. 03:54 UTC+04:00. Runway Delay: - Terminal. 3. Gate-Craft Type. Boeing 777-300ER. 77W. Flight Time. Scheduled. 3h 25m. Arrival. HYD. Hyderabad Rajiv'}]\u001b[0m\n",
            "Thought:\u001b[32;1m\u001b[1;3mThought:The observation shows that EK526 flight from Dubai to Hyderabad on December 4th, 2024 is not listed in the results.  However,  some results show past and future flight schedules. I need to find the scheduled arrival time for December 4th, 2024, if available. If not available, I will need to make an assumption.\n",
            "\n",
            "\n",
            "Action: tavily_search_results_json\n",
            "Action Input: \"EK526 flight schedule December 4th, 2024 Hyderabad\"\n",
            "\n",
            "\u001b[0m\n",
            "Observation: \u001b[36;1m\u001b[1;3m[{'url': 'https://www.flightradar24.com/data/flights/ek526/', 'content': \"EK526 (Emirates) - Live flight status, scheduled flights, flight arrival and departure times, flight tracks and playback, flight route and airport. The world's most popular flight tracker. Track planes in real-time on our flight tracker map and get up-to-date flight status & airport information. ... 07 Dec 2024 : Dubai : Hyderabad\"}, {'url': 'https://www.airportia.com/flights/ek526/dubai/hyderabad/', 'content': 'Track EK526 from Dubai to Hyderabad: Emirates flight status, schedule, delay compensation, and real-time updates. ... (OTP) of Emirates Flight EK526 Dubai to Hyderabad? The Airportia On-Time Performance Rating for ... November 27th, 2024 with the flight status being . Scheduled on 08:25. How else can the flight EK526 be referenced as? This'}, {'url': 'https://www.flightera.net/en/flight/Emirates-Dubai-Hyderabad/EK526', 'content': 'Emirates FLIGHT EK526 from Dubai to Hyderabad. On-time Performance, delay statistics and flight information for EK526 LIVE TRACKING ... Dec 2024 Landed The flight has landed. It arrived 8 hours ago (1min early). DXB Dubai TERMINAL: 3 GATE: B9-> 3h 20m 2,549km / 1,573mi'}, {'url': 'https://www.planemapper.com/flights/EK526', 'content': 'Flight EK526 from Dubai to Hyderabad is operated by Emirates SkyCargo. Scheduled time of departure from Dubai Intl is 03:30 +04 and scheduled time of arrival in Hyderabad is 07:55 IST. ... (EK526 Flight Schedule) Dubai Intl (DXB/OMDB) Dubai, United Arab Emirates 03:30 +04 Wed 13-Nov-2024 : LATE 22 min +04 00:00:00 DAY Arrival (EK526 Flight'}, {'url': 'https://www.flightstats.com/v2/flight-tracker/EK/526', 'content': 'EK526 Flight Tracker - Track the real-time flight status of Emirates EK 526 live using the FlightStats Global Flight Tracker. ... Hyderabad Rajiv Gandhi International Airport. Flight Arrival Times. 27-Nov-2024. Scheduled. 08:25 IST. Actual. 08:45 IST. Terminal. MAIN. ... Flights for Sunday, 24-Nov-2024. Departure Time.'}]\u001b[0m\n",
            "Thought:\u001b[32;1m\u001b[1;3mThought:The provided search results still don't give the scheduled arrival time for EK526 on December 4th, 2024.  The closest information is for other dates.  I'll have to make a reasonable assumption based on the given arrival time of 8:20 PM and the fact that it's a flight from Dubai.  I will assume the flight arrives around the scheduled time.\n",
            "\n",
            "Thought:I will assume an 8:20 PM arrival time on December 4th, 2024.  I will then calculate the cab booking time and home arrival time based on that assumption.\n",
            "\n",
            "Thought:Let's calculate the times.\n",
            "\n",
            "Thought:Arrival time: 8:20 PM\n",
            "Luggage time: 1 hour\n",
            "Travel time home: 2 hours\n",
            "\n",
            "Total time after landing: 1 hour + 2 hours = 3 hours\n",
            "\n",
            "Cab booking time: 8:20 PM + 3 hours = 11:20 PM\n",
            "\n",
            "Home arrival time: 8:20 PM + 1 hour + 2 hours = 11:20 PM\n",
            "\n",
            "\n",
            "Thought:I now know the final answer.\n",
            "\n",
            "Final Answer:  Assuming the flight arrives at 8:20 PM as stated, you should book a cab for around 11:20 PM. You will reach home around 11:20 PM.  However, this is based on an assumption of the arrival time since the provided flight schedule information is incomplete.  It is recommended to check the Emirates website or other flight tracking services closer to the date for the most accurate arrival time.\n",
            "\u001b[0m\n",
            "\n",
            "\u001b[1m> Finished chain.\u001b[0m\n",
            "Assuming the flight arrives at 8:20 PM as stated, you should book a cab for around 11:20 PM. You will reach home around 11:20 PM.  However, this is based on an assumption of the arrival time since the provided flight schedule information is incomplete.  It is recommended to check the Emirates website or other flight tracking services closer to the date for the most accurate arrival time.\n"
          ]
        }
      ]
    },
    {
      "cell_type": "code",
      "source": [
        "agent_scratchpad = \"\"\n",
        "user_input = (\"If I am arriving Hyderabad 4th Dec,2024 by EK526 by 8.20 PM and journey takes 3hrs. What time I have left the source airport and mention terminal info?Any layover in between.?\")\n",
        "\n",
        "final_prompt = prompt.format(input=user_input, tool_names=tool_names, agent_scratchpad=agent_scratchpad) # Include tool_names\n",
        "\n",
        "print(agent.run(final_prompt))"
      ],
      "metadata": {
        "colab": {
          "base_uri": "https://localhost:8080/"
        },
        "id": "jaKmD44MqPCo",
        "outputId": "68c961b8-44c2-4088-816f-f98de01147e1"
      },
      "execution_count": null,
      "outputs": [
        {
          "output_type": "stream",
          "name": "stdout",
          "text": [
            "\n",
            "\n",
            "\u001b[1m> Entering new AgentExecutor chain...\u001b[0m\n",
            "\u001b[32;1m\u001b[1;3mThought: I need to determine the departure time and location, as well as any layovers, for flight EK526 arriving in Hyderabad on December 4th, 2024 at 8:20 PM.  The flight duration is 3 hours.  I can use the Flight info tool for this. However, since I only have access to `tavily_search_results_json`, I will need to use that to find flight information, which may not be as detailed.\n",
            "\n",
            "Action: tavily_search_results_json\n",
            "Action Input: \"EK526 flight schedule December 4th 2024\"\n",
            "\u001b[0m\n",
            "Observation: \u001b[36;1m\u001b[1;3m[{'url': 'https://www.flightera.net/en/flight/Emirates-Dubai-Hyderabad/EK526', 'content': 'Emirates FLIGHT EK526 from Dubai to Hyderabad. On-time Performance, delay statistics and flight information for EK526 LIVE TRACKING ... Dec 2024 Landed The flight has landed. It arrived 8 hours ago (1min early). DXB Dubai TERMINAL: 3 GATE: B9-> 3h 20m 2,549km / 1,573mi'}, {'url': 'https://www.flightaware.com/live/flight/UAE526', 'content': 'EK526 (UAE526) Emirates Flight Tracking and History - FlightAware FlightAware Aviator The ultimate flight tracking suite for small aircraft/general aviation (GA) owners and operators. FlightAware Global The industry standard flight tracking platform for business aviation (BA) owners and operators. FlightAware FBO Toolbox Comprehensive flight tracking to enhance your FBO operations and increase sales. Get the FlightAware App for the best flight tracking experience on your device. FlightAware Aviator The ultimate flight tracking suite for small aircraft/general aviation (GA) owners and operators. FlightAware Global The industry standard flight tracking platform for business aviation (BA) owners and operators. FlightAware FBO Toolbox Comprehensive flight tracking to enhance your FBO operations and increase sales. 2024 FlightAware Did you know that FlightAware flight tracking is supported by advertising?'}, {'url': 'https://www.flight.info/EK526', 'content': 'Emirates (EK) 526 flight status and details. See all scheduled Emirates arrivals and departures between Dubai and Hyderabad.'}, {'url': 'https://www.flightstats.com/v2/flight-tracker/EK/526', 'content': 'Flights Flight Tracker Track a Flight Flight Status Dubai International Airport Flight Departure Times Flight Arrival Times VIEW FLIGHT DETAILSON-TIME PERFORMANCEAIRPORT DELAYSDXB AIRPORT CONDITIONSHYD AIRPORT CONDITIONSREFRESH DATA Flight Tracker The flight has landed Flight Time Flights for Sunday, 01-Dec-2024 03:30 +04 DXB Dubai HYD Hyderabad 08:25 IST Flights for Monday, 02-Dec-2024 03:30 +04 DXB Dubai HYD Hyderabad 08:25 IST Flights for Tuesday, 03-Dec-2024 03:30 +04 DXB Dubai HYD Hyderabad 08:25 IST Flights for Wednesday, 04-Dec-2024 03:30 +04 DXB Dubai HYD Hyderabad 08:25 IST Flights for Thursday, 05-Dec-2024 03:30 +04 DXB Dubai HYD Hyderabad 08:25 IST Flights for Friday, 06-Dec-2024 03:30 +04 DXB Dubai HYD Hyderabad 08:25 IST Flights for Saturday, 07-Dec-2024 Over 10 million people have downloaded our FlightStats mobile apps!'}, {'url': 'https://www.airportia.com/flights/ek526/dubai/hyderabad/', 'content': 'EK526 Flight Status Emirates: Dubai to Hyderabad (UAE526) Airportia / Flights / Emirates / EK526 EK526 Flight Status Emirates: Dubai to Hyderabad (UAE526) EK 526 Flight Status & Schedule Emirates Dubai to Hyderabad Emirates EK 526 Dubai to Hyderabad Flight Information Emirates Flight EK526 connects Dubai, United Arab Emirates to Hyderabad, India, taking off from Dubai International Airport DXB and landing at Hyderabad Rajiv Gandhi International Airport HYD. How long is the EK526 flight from Dubai to Hyderabad? What is the On-Time Performance (OTP) of Emirates Flight EK526 Dubai to Hyderabad? How often is flight EK526 delayed? EK526 and Dubai DXB to Hyderabad HYD Flights All flights connecting Dubai DXB to Hyderabad HYD. EK526 Emirates Flight: Dubai to Hyderabad Route Map'}]\u001b[0m\n",
            "Thought:\u001b[32;1m\u001b[1;3mThought:The search results provide information about flight EK526 from Dubai (DXB) to Hyderabad (HYD).  One result mentions a December 4th flight landing at 8:25 IST, and another shows a departure time of 3:30 +04 (presumably Dubai time) on December 4th.  The flight duration is approximately 3 hours 20 minutes according to one source. There is no mention of a layover.  I need to convert the time zones to confirm the departure time.\n",
            "\n",
            "Action: None.  I have enough information from the previous action.\n",
            "\n",
            "Thought:The flight arrives in Hyderabad at 8:20 PM IST on December 4th, 2024.  The flight time is approximately 3 hours and 20 minutes.  Subtracting 3 hours and 20 minutes from 8:20 PM IST gives us approximately 4:50 PM IST. However, this is the arrival time in Hyderabad, and we need to account for the time difference between Dubai and Hyderabad.  Dubai observes +4 GMT and Hyderabad observes +5:30 GMT.  The time difference is 1.5 hours.  Therefore, the departure time in Dubai would be 4:50 PM - 1.5 hours = 3:20 PM Dubai time.  The terminal information is mentioned as Terminal 3, Gate B9 in one result.\n",
            "\n",
            "Thought:I now know the final answer.\n",
            "\n",
            "Final Answer:The flight EK526 departed from Dubai (DXB) Terminal 3, Gate B9 approximately around 3:20 PM Dubai time on December 4th, 2024. There is no layover mentioned in the search results.\n",
            "\u001b[0m\n",
            "\n",
            "\u001b[1m> Finished chain.\u001b[0m\n",
            "The flight EK526 departed from Dubai (DXB) Terminal 3, Gate B9 approximately around 3:20 PM Dubai time on December 4th, 2024. There is no layover mentioned in the search results.\n"
          ]
        }
      ]
    },
    {
      "cell_type": "code",
      "source": [
        "agent_scratchpad = \"\"\n",
        "user_input = (\"If I am arriving Hyderabad by EK526 by 8.20 PM  from the source and it takes about 1hr to get luggages and I checked in Hotel Hyderabad grand by cab from the airport. What time I should book a cab and when will I reach the Hotel?\")\n",
        "\n",
        "final_prompt = prompt.format(input=user_input, tool_names=tool_names, agent_scratchpad=agent_scratchpad) # Include tool_names\n",
        "\n",
        "print(agent.run(final_prompt))"
      ],
      "metadata": {
        "colab": {
          "base_uri": "https://localhost:8080/"
        },
        "id": "UlVs4t9OmxRJ",
        "outputId": "6578524b-621d-40cd-e886-20672c99f039"
      },
      "execution_count": null,
      "outputs": [
        {
          "output_type": "stream",
          "name": "stdout",
          "text": [
            "\n",
            "\n",
            "\u001b[1m> Entering new AgentExecutor chain...\u001b[0m\n",
            "\u001b[32;1m\u001b[1;3mThought:I need to determine the arrival time in Hyderabad and then calculate the time to book a cab and the arrival time at home.  I don't have access to real-time flight data, so I'll assume the flight arrives on time.\n",
            "\n",
            "Action: None.  The provided tools don't directly help with this calculation.  The flight information tool is not usable without a flight number and date.  The search engine could indirectly help find flight schedules but that is unreliable and adds unnecessary complexity.\n",
            "\n",
            "Thought: I can calculate the time based on the given information.\n",
            "\n",
            "Thought:The flight arrives at 8:20 PM.  It takes 1 hour for luggage and 2 hours to get home.  Therefore, the total travel time from the plane to home is 3 hours.\n",
            "\n",
            "Thought:To arrive home by 11:20 PM, I should book a cab to leave the airport no later than 8:20 PM + 1 hour = 9:20 PM.\n",
            "\n",
            "Thought: I now know the final answer.\n",
            "\n",
            "Final Answer: You should book a cab for around 9:20 PM to ensure you arrive home by approximately 11:20 PM.\n",
            "\u001b[0m\n",
            "\n",
            "\u001b[1m> Finished chain.\u001b[0m\n",
            "You should book a cab for around 9:20 PM to ensure you arrive home by approximately 11:20 PM.\n"
          ]
        }
      ]
    },
    {
      "cell_type": "code",
      "source": [
        "agent_scratchpad = \"\"\n",
        "user_input = \"what is source and destination of  EK221 flight and from the destination I need to travel to Newyork. Is there a direct flight ?\"\n",
        "\n",
        "final_prompt = prompt.format(input=user_input, tool_names=tool_names, agent_scratchpad=agent_scratchpad) # Include tool_names\n",
        "\n",
        "print(agent.run(final_prompt))"
      ],
      "metadata": {
        "colab": {
          "base_uri": "https://localhost:8080/"
        },
        "id": "FoLvNWfLelm-",
        "outputId": "e85b1f11-364d-4399-ade5-23f87ea37d96"
      },
      "execution_count": null,
      "outputs": [
        {
          "output_type": "stream",
          "name": "stdout",
          "text": [
            "\n",
            "\n",
            "\u001b[1m> Entering new AgentExecutor chain...\u001b[0m\n",
            "\u001b[32;1m\u001b[1;3mThought:I need to find the source and destination of flight EK221.  The question specifies using the Tavily search tool, but that tool is designed for factual information, and flight information is more readily available through a flight tracking service.  However, I can try using Tavily first to see if it provides this information, and if not, I will use the Flight info tool.\n",
            "\n",
            "Action: tavily_search_results_json\n",
            "Action Input: \"EK221 flight source and destination\"\n",
            "\u001b[0m\n",
            "Observation: \u001b[36;1m\u001b[1;3m[{'url': 'https://www.radarbox.com/data/flights/EK221', 'content': 'Flight EK221 / UAE221 - Emirates - AirNav RadarBox Database - Live Flight Tracker, Status, History, Route, Replay, Status, Airports Arrivals Departures ... Source-Station-FIR. Aircraft Info. Aircraft Model. Boeing 777-300ER. Registration. A6-EQD. Mode-S. 896453. ... Destination STA Aircraft Delay Status Duration Replay; Future. 2024 26 Nov'}, {'url': 'https://www.flightstats.com/v2/flight-tracker/EK/221', 'content': 'EK221 Flight Tracker - Track the real-time flight status of Emirates EK 221 live using the FlightStats Global Flight Tracker. See if your flight has been delayed or cancelled and track the live position on a map. ... Destination. Arrival Time. 02:40 +04. DXB. Dubai. DFW. Dallas. 08:55 CST.'}, {'url': 'https://airportinfo.live/flight/ek221', 'content': 'Emirates EK221 / UAE221 Flight details & Flight status. The international Emirates flight EK221 / UAE221 departs from Dubai [DXB], United Arab Emirates and flies to Dallas Fort Worth [DFW], United States.. The estimated flight duration is 5:41 hours and the distance is 12918 kilometers.. Departure is today 11/30/2024 at 3:00 +04 at Dubai from in terminal 3 at gate A3.'}, {'url': 'https://www.flightera.net/en/flight/Emirates-Dubai-Dallas/EK221', 'content': 'Emirates FLIGHT EK221 from Dubai to Dallas. On-time Performance, delay statistics and flight information for EK221. LIVE TRACKING SEARCH WIDGETS DATA SOLUTIONS FLIGHT STATISTICS CLAIM COMPENSATION Emirates EK221 (UAE221) 23. Nov 2024 Landed'}, {'url': 'https://www.flightstats.com/v2/flight-details/EK/221', 'content': 'See all the details FlightStats has collected about flight Emirates EK 221 (DXB to DFW) including tail number, equipment information, and runway times (EK) Emirates 221 Flight Details. On time | Arrived. Departure. DXB. Dubai International Airport, AE. Flight Gate Times. 14-Nov-2024. Scheduled. 02:40'}]\u001b[0m\n",
            "Thought:\u001b[32;1m\u001b[1;3mThought:The Tavily search results provide the source and destination of flight EK221.\n",
            "\n",
            "Thought:I now know the final answer.\n",
            "\n",
            "Final Answer: The source of flight EK221 is Dubai (DXB) and the destination is Dallas Fort Worth (DFW).\n",
            "\u001b[0m\n",
            "\n",
            "\u001b[1m> Finished chain.\u001b[0m\n",
            "The source of flight EK221 is Dubai (DXB) and the destination is Dallas Fort Worth (DFW).\n"
          ]
        }
      ]
    },
    {
      "cell_type": "code",
      "source": [
        "agent_scratchpad = \"\"\n",
        "user_input = \"What are the different classes of flights available in Emirates and name them?\"\n",
        "\n",
        "final_prompt = prompt.format(input=user_input, tool_names=tool_names, agent_scratchpad=agent_scratchpad) # Include tool_names\n",
        "\n",
        "print(agent.run(final_prompt))"
      ],
      "metadata": {
        "colab": {
          "base_uri": "https://localhost:8080/"
        },
        "id": "jWFoDTEYRvok",
        "outputId": "62dc3f30-6ed7-46fc-c16c-63ce7306a533"
      },
      "execution_count": null,
      "outputs": [
        {
          "output_type": "stream",
          "name": "stdout",
          "text": [
            "\n",
            "\n",
            "\u001b[1m> Entering new AgentExecutor chain...\u001b[0m\n",
            "\u001b[32;1m\u001b[1;3mThought: To answer this question, I need to find information about the different classes of flights offered by Emirates.  A web search would be the best approach.\n",
            "\n",
            "Action: tavily_search_results_json\n",
            "Action Input: \"Emirates airline classes of service\"\n",
            "\u001b[0m\n",
            "Observation: \u001b[36;1m\u001b[1;3m[{'url': 'https://www.nerdwallet.com/article/travel/emirates-business-class', 'content': 'Emirates has four classes of service: first, business, premium economy and economy. But the reality is that even within business class, there are superior and inferior products.'}, {'url': 'https://milepro.com/emirates-airline-guide/', 'content': 'From there Emirates flies to more than 150 destinations over six continents via 3,600+ flights per week. Emirates Customer Service Information. Customer Affairs Department, Emirates P.O. Box 686 Dubai, United Arab Emirates ... Emirates offers three classes of service including its famous Private Suites in First Class, flat bed seats in Business'}, {'url': 'https://upgradedpoints.com/travel/airlines/emirates-us-routes-plane-types/', 'content': 'Emirates First Class Options. Emirates offers first class on all routes and flights, with 1 exception. On select flight services aboard the 2-cabin 777-200LR, there is no first class cabin. You have 2 options to fly Emirates first class: A380 first class; 777-300ER first class; Emirates A380 First Class'}, {'url': 'https://upgradedpoints.com/travel/airlines/emirates-review/', 'content': \"Emirates is one of the world's largest airlines, operating in 158 countries with a fleet of 255 aircraft. The airline's first class product offers private suites or seats with lie-flat beds, chauffeur service, priority boarding, lounge access, gourmet dining, luxury amenities, and a 32-inch screen.\"}, {'url': 'https://www.timeoutdubai.com/news/emirates-class-economy-business-first', 'content': 'Business Class . Emirates Business Class flights are available on A380 or Boeing 777 aircraft and are the next step up from Premium Economy. Expect a lot more space and added extras (such as access to an onboard lounge) when booking a flight in Business Class. Entertainment in Emirates Business Class'}]\u001b[0m\n",
            "Thought:\u001b[32;1m\u001b[1;3mThought:The search results provide the answer.  Emirates offers four classes of service.\n",
            "\n",
            "Thought:I now know the final answer.\n",
            "\n",
            "Final Answer: Emirates offers four classes of flights: First Class, Business Class, Premium Economy, and Economy.\n",
            "\u001b[0m\n",
            "\n",
            "\u001b[1m> Finished chain.\u001b[0m\n",
            "Emirates offers four classes of flights: First Class, Business Class, Premium Economy, and Economy.\n"
          ]
        }
      ]
    },
    {
      "cell_type": "code",
      "source": [
        "agent_scratchpad = \"\"\n",
        "user_input = \"What are all the offerings in Emirates bussiness class A380 flight?\"\n",
        "\n",
        "final_prompt = prompt.format(input=user_input, tool_names=tool_names, agent_scratchpad=agent_scratchpad) # Include tool_names\n",
        "\n",
        "print(agent.run(final_prompt))"
      ],
      "metadata": {
        "colab": {
          "base_uri": "https://localhost:8080/"
        },
        "id": "EUoCZE-S7BrB",
        "outputId": "d3f963a5-52b7-43de-9aea-ac006516f34f"
      },
      "execution_count": null,
      "outputs": [
        {
          "output_type": "stream",
          "name": "stdout",
          "text": [
            "\n",
            "\n",
            "\u001b[1m> Entering new AgentExecutor chain...\u001b[0m\n",
            "\u001b[32;1m\u001b[1;3mThought:To answer this question, I need to find information about the amenities and services offered in Emirates Business Class on their A380 flights.  A web search would be the best approach.\n",
            "\n",
            "Action: tavily_search_results_json\n",
            "Action Input: \"Emirates Business Class A380 amenities\"\n",
            "\u001b[0m\n",
            "Observation: \u001b[36;1m\u001b[1;3m[{'url': 'https://above9.travel/blog/emirates-airlines-a380-business-class-review', 'content': 'Business Class Amenities. The Emirates Business Class amenity kits on long-haul flights include luxury items from the Italian brand Bulgari. These kits, designed separately for men and women, contain essentials like a hand mirror, face and body moisturizers, dental kits, lip balm, shaving foam, and more. Emirates Airlines A380 Business Class'}, {'url': 'https://www.myglobalviewpoint.com/emirates-business-class-guide/', 'content': 'Emirates A380 Business Class. On the Airbus A380, the Emirates Business Class seats are arranged in a 1-2-1 configuration, ensuring direct aisle access for every passenger. ... This early check-in allows you to fully enjoy the Business Class lounge amenities and ensures a relaxed start to your journey. Remember, Emirates offers priority check'}, {'url': 'https://www.headforpoints.com/2024/05/23/emirates-a380-business-class-review/', 'content': 'This is our review of Emirates business class on a refurbished A380. 22 aircraft, including mine, have seen new finishes, fabrics and technology installed. Maximise your Avios, air miles and hotel points ... Emirates business class amenities. Waiting at my seat was a pillow and plastic-wrapped blanket. Emirates seems to be behind the curve on'}, {'url': 'https://www.executivetraveller.com/emirates-business-class-guide', 'content': 'Emirates Airbus A380 business class. On the superjumbos, ... While not quite as modern as the first class lounge in Concourse A, the Concourse B space offers the same general amenities including restaurant dining and a day spa. Emirates first class lounge, Dubai Concourse C.'}, {'url': 'https://thepointsguy.com/airline/emirates-business-class/', 'content': \"Quick take: Emirates A380 business class lives up to the hype, with an enjoyable experience and luxurious amenities from start to finish. Pros: It's an excellent lounge in New York with a variety of Champagne choices that create a sense of occasion as well as a wide range of hot food.\"}]\u001b[0m\n",
            "Thought:\u001b[32;1m\u001b[1;3mThought:The search results provide a good overview of Emirates Business Class A380 amenities, but they don't offer a complete list.  I need to synthesize the information from multiple sources.\n",
            "\n",
            "Thought:I now know the final answer. Based on the search results, Emirates Business Class A380 offers amenities such as Bulgari amenity kits (with items like moisturizers, dental kits, etc.),  a 1-2-1 seat configuration with direct aisle access, priority check-in, access to Business Class lounges (with amenities like restaurants and spas), pillows and blankets, and a generally luxurious experience.  The specific details of food and beverage offerings aren't fully detailed in these snippets, but the overall impression is one of high-end service and comfort.\n",
            "\n",
            "Final Answer: Emirates Business Class on the A380 offers a luxurious experience with amenities including Bulgari amenity kits, a 1-2-1 seating configuration providing direct aisle access for all passengers, priority check-in, access to Business Class lounges with restaurants and spas,  pillows and blankets, and a wide selection of food and beverages (specific details vary by flight).\n",
            "\u001b[0m\n",
            "\n",
            "\u001b[1m> Finished chain.\u001b[0m\n",
            "Emirates Business Class on the A380 offers a luxurious experience with amenities including Bulgari amenity kits, a 1-2-1 seating configuration providing direct aisle access for all passengers, priority check-in, access to Business Class lounges with restaurants and spas,  pillows and blankets, and a wide selection of food and beverages (specific details vary by flight).\n"
          ]
        }
      ]
    },
    {
      "cell_type": "code",
      "source": [
        "agent_scratchpad = \"\"\n",
        "user_input = \"EK407 belong to bussiness or Economy class?Mention the route info of flight.If EK407 cost is 4000$ per person one way and Bookings are made for for 4 adults .What is total cost and approximate cost for round trip?\"\n",
        "\n",
        "final_prompt = prompt.format(input=user_input, tool_names=tool_names, agent_scratchpad=agent_scratchpad) # Include tool_names\n",
        "\n",
        "print(agent.run(final_prompt))"
      ],
      "metadata": {
        "colab": {
          "base_uri": "https://localhost:8080/"
        },
        "id": "gkat44kjs9tv",
        "outputId": "d3d0b4b9-a5c4-49a7-85b2-a2cb4531387b"
      },
      "execution_count": null,
      "outputs": [
        {
          "output_type": "stream",
          "name": "stdout",
          "text": [
            "\n",
            "\n",
            "\u001b[1m> Entering new AgentExecutor chain...\u001b[0m\n",
            "\u001b[32;1m\u001b[1;3mThought: I need to find information about flight EK407 to determine its class type, route, and then calculate the total cost.  I can use the `tavily_search_results_json` tool to get this information.\n",
            "\n",
            "Action: tavily_search_results_json\n",
            "Action Input: \"EK407 flight route and class information\"\n",
            "\u001b[0m\n",
            "Observation: \u001b[36;1m\u001b[1;3m[{'url': 'https://www.flightera.net/en/flight/Emirates/EK407', 'content': 'Emirates FLIGHT EK407 from Christchurch to Melbourne and Melbourne to Dubai. On-time Performance, delay statistics and flight information for EK407 LIVE TRACKING SEARCH ... Route Info. CO2 EMISSIONS Economy 2,654kg Business 4,085kg First 9,121kg RECENT FLIGHTS DATE FLIGHT NUMBER FROM TO DEPARTED ARRIVED; 02. Dec'}, {'url': 'https://aviability.com/flight-number/flight-ek407-emirates', 'content': 'Emirates international flight EK407 connects Australia and United Arab Emirates, flying Melbourne (MEL) to Dubai (DXB). This flight takes off from Melbourne Terminal 2 at 22:30 on November 30, landing at Dubai Terminal 3 at 05:40 on December 1. ... Route flights. Flights Melbourne Dubai; Flights Dubai Melbourne; Codeshare flights. QF8407 flight'}, {'url': 'https://planefinder.net/data/flight/EK407/page/1', 'content': 'EK407 (Emirates Airlines) - Live flight status, flight arrival and departure times for scheduled flights, and playback and flight routes for all historic flights recorded by Plane Finder. Flight Tracker Map ... EK407; Emirates Airlines Flight EK407 UAE7DK. Service Type Passenger . Seats 484 . Freight Containers . Capacity 17 tonnes. Codeshare'}, {'url': 'https://planefinder.net/data/flight/EK407', 'content': 'EK407 (Emirates) - Live flight status, flight arrival and departure times for scheduled flights, and playback and flight routes for all historic flights recorded by Plane Finder. Flight Tracker Map; Aviation Data; Flights; EK407; Emirates Flight EK407 UAE7DK. Service Type'}, {'url': 'https://www.flight.info/EK407', 'content': 'Emirates (EK) 407 flight status and details. See all scheduled Emirates arrivals and departures between Melbourne and Dubai.'}]\u001b[0m\n",
            "Thought:\u001b[32;1m\u001b[1;3mThought: I need to find information about flight EK407 to determine its class type, route, and then calculate the total cost.  I can use the `tavily_search_results_json` tool to get this information.\n",
            "\n",
            "Action: tavily_search_results_json\n",
            "Action Input: \"EK407 flight route and class information\"\n",
            "\u001b[0m\n",
            "Observation: \u001b[36;1m\u001b[1;3m[{'url': 'https://www.flightera.net/en/flight/Emirates/EK407', 'content': 'Emirates FLIGHT EK407 from Christchurch to Melbourne and Melbourne to Dubai. On-time Performance, delay statistics and flight information for EK407 LIVE TRACKING SEARCH ... Route Info. CO2 EMISSIONS Economy 2,654kg Business 4,085kg First 9,121kg RECENT FLIGHTS DATE FLIGHT NUMBER FROM TO DEPARTED ARRIVED; 02. Dec'}, {'url': 'https://planefinder.net/data/flight/EK407/page/1', 'content': 'EK407 (Emirates Airlines) - Live flight status, flight arrival and departure times for scheduled flights, and playback and flight routes for all historic flights recorded by Plane Finder. Flight Tracker Map ... EK407; Emirates Airlines Flight EK407 UAE7DK. Service Type Passenger . Seats 484 . Freight Containers . Capacity 17 tonnes. Codeshare'}, {'url': 'https://planefinder.net/data/flight/EK407', 'content': 'EK407 (Emirates) - Live flight status, flight arrival and departure times for scheduled flights, and playback and flight routes for all historic flights recorded by Plane Finder. Flight Tracker Map; Aviation Data; Flights; EK407; Emirates Flight EK407 UAE7DK. Service Type'}, {'url': 'https://www.flight.info/EK407', 'content': 'Emirates (EK) 407 flight status and details. See all scheduled Emirates arrivals and departures between Melbourne and Dubai.'}, {'url': 'https://www.flightaware.com/live/flight/UAE407', 'content': 'EK407 (UAE407) Emirates Flight Tracking and History - FlightAware FlightAware Aviator The ultimate flight tracking suite for small aircraft/general aviation (GA) owners and operators. FlightAware Global The industry standard flight tracking platform for business aviation (BA) owners and operators. FlightAware FBO Toolbox Comprehensive flight tracking to enhance your FBO operations and increase sales. Get the FlightAware App for the best flight tracking experience on your device. FlightAware Aviator The ultimate flight tracking suite for small aircraft/general aviation (GA) owners and operators. FlightAware Global The industry standard flight tracking platform for business aviation (BA) owners and operators. FlightAware FBO Toolbox Comprehensive flight tracking to enhance your FBO operations and increase sales. 2024 FlightAware Did you know that FlightAware flight tracking is supported by advertising?'}]\u001b[0m\n",
            "Thought:\u001b[32;1m\u001b[1;3mThought:The search results indicate that EK407 is an Emirates flight.  While the exact class configuration isn't explicitly stated, the presence of \"Economy,\" \"Business,\" and \"First\" in CO2 emission data from one result suggests that the flight likely offers all three classes. The route information is inconsistent across sources, with some mentioning Christchurch to Melbourne and others Melbourne to Dubai.  I'll use the most consistent information.\n",
            "\n",
            "Action: tavily_search_results_json\n",
            "Action Input: \"Emirates EK407 flight route\"\n",
            "\u001b[0m\n",
            "Observation: \u001b[36;1m\u001b[1;3m[{'url': 'https://www.flightera.net/en/flight/Emirates/EK407', 'content': 'Emirates FLIGHT EK407 from Christchurch to Melbourne and Melbourne to Dubai. On-time Performance, delay statistics and flight information for EK407 ... GENERAL ROUTE INFO FREQUENCY: daily Sun, Mon, Tue, Wed, Thu, Fri, Sat DIRECT DISTANCE 11,658km 7,245mi. ACTUAL DISTANCE 11,741km 7,297mi +0%'}, {'url': 'https://planefinder.net/data/flight/EK407', 'content': 'EK407 (Emirates) - Live flight status, ... and playback and flight routes for all historic flights recorded by Plane Finder. Flight Tracker Map; Aviation Data; Flights; EK407; Emirates Flight EK407 UAE7DK. Service Type Passenger . Seats 484 . Freight Containers . Capacity 17 tonnes. Codeshare flight(s): QF8407. Live Flights. Date Departed'}, {'url': 'https://www.airportia.com/flights/ek407/melbourne/dubai/', 'content': 'EK407 Flight Status Emirates: Melbourne to Dubai (UAE407) Airportia / Flights / Emirates / EK407 EK407 Flight Status Emirates: Melbourne to Dubai (UAE407) EK 407 Flight Status & Schedule Emirates Melbourne to Dubai Emirates EK 407 Melbourne to Dubai Flight Information Emirates Flight EK407 connects Melbourne, Australia to Dubai, United Arab Emirates, taking off from Melbourne Airport MEL and landing at Dubai International Airport DXB. How long is the EK407 flight from Melbourne to Dubai? What is the On-Time Performance (OTP) of Emirates Flight EK407 Melbourne to Dubai? Which terminal is the flight EK407 arriving at? Flight EK407 arrives at Dubai International Airport (DXB) Terminal 3. EK407 and Melbourne MEL to Dubai DXB Flights EK407 Emirates Flight: Melbourne to Dubai Route Map'}, {'url': 'https://www.radarbox.com/data/flights/ek407', 'content': 'Flight EK407 / UAE7DK - Emirates - RadarBox Flight Tracker Share ADS-B Data Flights Last Flight Dubai, United Arab Emirates (DXB / OMDB) - (MEL / YMML) Melbourne, VIC, Australia, 17 hours ago LANDED 11h 15m AGO Time aircraft arrives at gate derived from company/airport information Time aircraft arrives at gate derived from company/airport information Time aircraft arrives at gate derived from company/airport information Time aircraft arrives at gate derived from company/airport information Time aircraft arrives at gate derived from company/airport information Time aircraft arrives at gate derived from company/airport information Flight history for EK407 is available for a period over 7 days under our Basic subscription. Disable your ad-blocker or subscribe to a plan to use Radarbox without ads.'}, {'url': 'https://www.flightaware.com/live/flight/UAE407', 'content': 'EK407 (UAE407) Emirates Flight Tracking and History - FlightAware FlightAware Aviator The ultimate flight tracking suite for small aircraft/general aviation (GA) owners and operators. FlightAware Global The industry standard flight tracking platform for business aviation (BA) owners and operators. FlightAware FBO Toolbox Comprehensive flight tracking to enhance your FBO operations and increase sales. Get the FlightAware App for the best flight tracking experience on your device. FlightAware Aviator The ultimate flight tracking suite for small aircraft/general aviation (GA) owners and operators. FlightAware Global The industry standard flight tracking platform for business aviation (BA) owners and operators. FlightAware FBO Toolbox Comprehensive flight tracking to enhance your FBO operations and increase sales. 2024 FlightAware Did you know that FlightAware flight tracking is supported by advertising?'}]\u001b[0m\n",
            "Thought:\u001b[32;1m\u001b[1;3mThought:The most consistent information from the searches shows that flight EK407 is an Emirates flight from Melbourne (MEL) to Dubai (DXB).  The flight likely offers Economy, Business, and First class, although this isn't explicitly confirmed in all sources.  I can now calculate the total cost.\n",
            "\n",
            "Thought:I now know the final answer.\n",
            "\n",
            "Final Answer: Flight EK407 is an Emirates flight from Melbourne (MEL) to Dubai (DXB).  It likely offers Economy, Business, and First class seating.  The one-way cost for 4 adults is $4000/person * 4 people = $16000.  The approximate round-trip cost would be double that, or approximately $32000.\n",
            "\u001b[0m\n",
            "\n",
            "\u001b[1m> Finished chain.\u001b[0m\n",
            "Flight EK407 is an Emirates flight from Melbourne (MEL) to Dubai (DXB).  It likely offers Economy, Business, and First class seating.  The one-way cost for 4 adults is $4000/person * 4 people = $16000.  The approximate round-trip cost would be double that, or approximately $32000.\n"
          ]
        }
      ]
    },
    {
      "cell_type": "code",
      "source": [
        "agent_scratchpad = \"\"\n",
        "user_input = \"If I am arriving Dubai by 1 pm by EK565 and 4hrs is the journey from source.What time I might have arrived at source airport?\"\n",
        "\n",
        "final_prompt = prompt.format(input=user_input, tool_names=tool_names, agent_scratchpad=agent_scratchpad)\n",
        "\n",
        "print(agent.run(final_prompt))"
      ],
      "metadata": {
        "colab": {
          "base_uri": "https://localhost:8080/"
        },
        "id": "sjqnZEyL_HYt",
        "outputId": "24cb6095-605f-49c5-940c-aeb03fa34de7"
      },
      "execution_count": null,
      "outputs": [
        {
          "output_type": "stream",
          "name": "stdout",
          "text": [
            "\n",
            "\n",
            "\u001b[1m> Entering new AgentExecutor chain...\u001b[0m\n",
            "\u001b[32;1m\u001b[1;3mThought:I need to calculate the departure time based on the arrival time and flight duration.  I can do this with simple arithmetic.\n",
            "\n",
            "Action: None needed.\n",
            "\n",
            "Thought:The arrival time in Dubai is 1 PM. The flight duration is 4 hours.  To find the departure time, I need to subtract 4 hours from 1 PM.\n",
            "\n",
            "Action: None needed.\n",
            "\n",
            "Thought: 1 PM minus 4 hours is 9 AM.\n",
            "\n",
            "Thought:I now know the final answer.\n",
            "\n",
            "Final Answer: You would have likely departed the source airport at approximately 9 AM.\n",
            "\u001b[0m\n",
            "\n",
            "\u001b[1m> Finished chain.\u001b[0m\n",
            "You would have likely departed the source airport at approximately 9 AM.\n"
          ]
        }
      ]
    },
    {
      "cell_type": "markdown",
      "source": [
        "Integration of weather tool"
      ],
      "metadata": {
        "id": "MT6_JcAR6b-1"
      }
    },
    {
      "cell_type": "code",
      "source": [
        "\n",
        "import requests\n",
        "from bs4 import BeautifulSoup"
      ],
      "metadata": {
        "id": "j45pFr4P7SI1"
      },
      "execution_count": null,
      "outputs": []
    },
    {
      "cell_type": "code",
      "source": [
        "url=\"https://weather.com/weather/today/l/USCA0987:1:US\""
      ],
      "metadata": {
        "id": "NH9FNilP-0Vk"
      },
      "execution_count": null,
      "outputs": []
    },
    {
      "cell_type": "code",
      "source": [
        "pip install duckduckgo_search"
      ],
      "metadata": {
        "colab": {
          "base_uri": "https://localhost:8080/"
        },
        "id": "-GEh5o7QCh3j",
        "outputId": "35e611bd-73c1-4045-eb1e-4b2d0ebffe99"
      },
      "execution_count": null,
      "outputs": [
        {
          "output_type": "stream",
          "name": "stdout",
          "text": [
            "Collecting duckduckgo_search\n",
            "  Downloading duckduckgo_search-6.3.7-py3-none-any.whl.metadata (25 kB)\n",
            "Requirement already satisfied: click>=8.1.7 in /usr/local/lib/python3.10/dist-packages (from duckduckgo_search) (8.1.7)\n",
            "Collecting primp>=0.8.1 (from duckduckgo_search)\n",
            "  Downloading primp-0.8.1-cp38-abi3-manylinux_2_17_x86_64.manylinux2014_x86_64.whl.metadata (10 kB)\n",
            "Downloading duckduckgo_search-6.3.7-py3-none-any.whl (27 kB)\n",
            "Downloading primp-0.8.1-cp38-abi3-manylinux_2_17_x86_64.manylinux2014_x86_64.whl (3.0 MB)\n",
            "\u001b[2K   \u001b[90m━━━━━━━━━━━━━━━━━━━━━━━━━━━━━━━━━━━━━━━━\u001b[0m \u001b[32m3.0/3.0 MB\u001b[0m \u001b[31m38.7 MB/s\u001b[0m eta \u001b[36m0:00:00\u001b[0m\n",
            "\u001b[?25hInstalling collected packages: primp, duckduckgo_search\n",
            "Successfully installed duckduckgo_search-6.3.7 primp-0.8.1\n"
          ]
        }
      ]
    },
    {
      "cell_type": "code",
      "source": [
        "\n",
        "# choose location (try to change to your own city!)\n",
        "\n",
        "city = \"San Francisco\"\n",
        "\n",
        "query = f\"\"\"\n",
        "    what is the current weather in {city}?\n",
        "    Should I travel there today?\n",
        "    \"weather.com\"\n",
        "\"\"\""
      ],
      "metadata": {
        "id": "oG17tD0mC1h1"
      },
      "execution_count": null,
      "outputs": []
    },
    {
      "cell_type": "code",
      "source": [
        "\n",
        "import requests\n",
        "from bs4 import BeautifulSoup\n",
        "from duckduckgo_search import DDGS\n",
        "import re\n",
        "\n",
        "ddg = DDGS()\n",
        "\n",
        "def search(query, max_results=6):\n",
        "    try:\n",
        "        results = ddg.text(query, max_results=max_results)\n",
        "        return [i[\"href\"] for i in results]\n",
        "    except Exception as e:\n",
        "        print(f\"returning previous results due to exception reaching ddg.\")\n",
        "        results = [ # cover case where DDG rate limits due to high deeplearning.ai volume\n",
        "            \"https://weather.com/weather/today/l/USCA0987:1:US\",\n",
        "            \"https://weather.com/weather/hourbyhour/l/54f9d8baac32496f6b5497b4bf7a277c3e2e6cc5625de69680e6169e7e38e9a8\",\n",
        "        ]\n",
        "        return results\n",
        "\n",
        "\n",
        "for i in search(query):\n",
        "    print(i)"
      ],
      "metadata": {
        "colab": {
          "base_uri": "https://localhost:8080/"
        },
        "id": "IwcFulGQCH3u",
        "outputId": "8a0bf18d-1167-4b07-ff58-bfb367c8eb9a"
      },
      "execution_count": null,
      "outputs": [
        {
          "output_type": "stream",
          "name": "stdout",
          "text": [
            "https://weather.com/weather/today/l/San+Francisco+CA?canonicalCityId=45cf83277ba620e7dc8a0fe8b6eda89925a3e6d2e1bdfef3f74a1590017bd70d\n",
            "https://weather.com/weather/tenday/l/San+Francisco+CA+USCA0987:1:US\n"
          ]
        }
      ]
    },
    {
      "cell_type": "code",
      "source": [
        "\n",
        "def scrape_weather_info(url):\n",
        "    \"\"\"Scrape content from the given URL\"\"\"\n",
        "    session = get_api_session()\n",
        "    if not url:\n",
        "        return \"Weather information could not be found.\"\n",
        "\n",
        "    # fetch data\n",
        "    headers = {'User-Agent': 'Mozilla/5.0'}\n",
        "    response = requests.get(url, headers=headers)\n",
        "    if response.status_code != 200:\n",
        "        return \"Failed to retrieve the webpage.\"\n",
        "\n",
        "    # parse result\n",
        "    soup = BeautifulSoup(response.text, 'html.parser')\n",
        "    return print(soup)"
      ],
      "metadata": {
        "id": "3lrvosem6fIH"
      },
      "execution_count": null,
      "outputs": []
    },
    {
      "cell_type": "code",
      "source": [
        "Weather_status= Tool(\n",
        "    name=\"Weather info\",\n",
        "    func=scrape_weather_info,\n",
        "    description =\"useful to get weather info by day,date and time from the url specified\"\n",
        ")"
      ],
      "metadata": {
        "id": "9ke-rtCq6fzb"
      },
      "execution_count": null,
      "outputs": []
    },
    {
      "cell_type": "code",
      "source": [
        "# Define the search tool\n",
        "search_tool = TavilySearchResults()\n",
        "\n",
        "# Include both tools in the list\n",
        "tools = [\n",
        "    search_tool,  # The search tool\n",
        "    Weather_status # The retriever\n",
        "]"
      ],
      "metadata": {
        "id": "orR_4aqO6gSa"
      },
      "execution_count": null,
      "outputs": []
    },
    {
      "cell_type": "code",
      "source": [
        "tool_names"
      ],
      "metadata": {
        "colab": {
          "base_uri": "https://localhost:8080/"
        },
        "id": "o9UPyEYO-STF",
        "outputId": "8e257742-3dbd-408d-9b58-91cc6a1216c1"
      },
      "execution_count": null,
      "outputs": [
        {
          "output_type": "execute_result",
          "data": {
            "text/plain": [
              "['tavily_search_results_json', 'Weather info']"
            ]
          },
          "metadata": {},
          "execution_count": 48
        }
      ]
    },
    {
      "cell_type": "code",
      "source": [
        "prompt = PromptTemplate(\n",
        "    template=\"\"\"Answer the following questions as best as you can. You have access to the following tools: {tool_names}\n",
        "\n",
        "{input}  # user query\n",
        "{agent_scratchpad}\"\"\",# stores intermediate steps,thoughts ,action,result  which the agent generates to answer the question.\n",
        "    input_variables=[\"input\", \"tool_names\", \"agent_scratchpad\"],\n",
        ")"
      ],
      "metadata": {
        "id": "YOEngRV5DKWr"
      },
      "execution_count": null,
      "outputs": []
    },
    {
      "cell_type": "code",
      "source": [
        "\n",
        "#initialize an agent\n",
        "agent = initialize_agent(\n",
        "    tools,\n",
        "    llm,\n",
        "    agent=AgentType.ZERO_SHOT_REACT_DESCRIPTION,\n",
        "    verbose=True\n",
        ")"
      ],
      "metadata": {
        "id": "kSTXkjPgDTH5"
      },
      "execution_count": null,
      "outputs": []
    },
    {
      "cell_type": "code",
      "source": [
        "agent_scratchpad = \"\"\n",
        "user_input = \"If I leave by EK226  on 5th dec,2024 from the source airport and reach destination by 7.29 pm . What's  the weather like at source?\"\n",
        "\n",
        "final_prompt = prompt.format(input=user_input, tool_names=tool_names, agent_scratchpad=agent_scratchpad) # Include tool_names\n",
        "\n",
        "print(agent.run(final_prompt))"
      ],
      "metadata": {
        "colab": {
          "base_uri": "https://localhost:8080/"
        },
        "id": "aPINJEpq-91M",
        "outputId": "8e96c940-326d-4607-b70f-1a4453804023"
      },
      "execution_count": null,
      "outputs": [
        {
          "output_type": "stream",
          "name": "stdout",
          "text": [
            "\n",
            "\n",
            "\u001b[1m> Entering new AgentExecutor chain...\u001b[0m\n",
            "\u001b[32;1m\u001b[1;3mThought:To answer this question, I need to know the source airport for flight EK226 on December 5th, 2024.  I also need the weather at that location at the departure time.  I don't have that information yet.\n",
            "\n",
            "Action: tavily_search_results_json\n",
            "Action Input: \"EK226 flight schedule December 5th 2024\"\n",
            "\u001b[0m\n",
            "Observation: \u001b[36;1m\u001b[1;3m[{'url': 'https://www.flightera.net/en/flight/Emirates-San+Francisco-Dubai/EK226/Dec-2024', 'content': 'December 2024: Emirates FLIGHT EK226 from San Francisco to Dubai. Claim Compensation for EK226, On-time Performance, delay statistics and flight information'}, {'url': 'https://www.flightera.net/en/flight/Emirates-San+Francisco-Dubai/EK226', 'content': 'How long is flight EK226? The flight has a distance of 13,034.67 km (8,051.06 mi.) with an average flight time of 15 hours and 41 minutes.'}, {'url': 'https://www.flight.info/EK226', 'content': 'Flight EK226 schedule, Emirates between SFO and DXB | Flight.info UAE226 / EK226 Click here to see all flights Flight schedule Select flight date Same day flight Departure: TI Arrival: T3 Same day flight Departure: TI Arrival: T3 Same day flight Departure: TI Arrival: T3 Same day flight Same day flight arrives TERMINAL 3 Sun Mon Tue Wed Thu Fri Sat Flight time Flights / Week 7 flights 513 seats/flight Upcoming scheduled flights in the coming 30 days An international route departing from San Francisco (SFO), USA and arriving at Dubai (DXB), United Arab Emirates. The flight distance is 8135 miles, or 13089 km. For direct flights, the flight time is about 15:45. × Check the live status on following websites:'}, {'url': 'https://www.flightaware.com/live/flight/UAE226', 'content': 'EK226 (UAE226) Emirates Flight Tracking and History - FlightAware FlightAware Aviator The ultimate flight tracking suite for small aircraft/general aviation (GA) owners and operators. FlightAware Global The industry standard flight tracking platform for business aviation (BA) owners and operators. FlightAware FBO Toolbox Comprehensive flight tracking to enhance your FBO operations and increase sales. Get the FlightAware App for the best flight tracking experience on your device. FlightAware Aviator The ultimate flight tracking suite for small aircraft/general aviation (GA) owners and operators. FlightAware Global The industry standard flight tracking platform for business aviation (BA) owners and operators. FlightAware FBO Toolbox Comprehensive flight tracking to enhance your FBO operations and increase sales. 2024 FlightAware Did you know that FlightAware flight tracking is supported by advertising?'}, {'url': 'https://www.airportia.com/flights/ek226/san-francisco/dubai/', 'content': 'EK226 Flight Status Emirates: San Francisco to Dubai (UAE226) EK226 Flight Status Emirates: San Francisco to Dubai (UAE226) EK 226 Flight Status & Schedule Emirates San Francisco to Dubai Emirates EK 226 San Francisco to Dubai Flight Information Emirates Flight EK226 connects San Francisco, United States to Dubai, United Arab Emirates, taking off from San Francisco International Airport SFO and landing at Dubai International Airport DXB. How long is the EK226 flight from San Francisco to Dubai? What is the On-Time Performance (OTP) of Emirates Flight EK226 San Francisco to Dubai? Flight EK226 arrives at Dubai International Airport (DXB) Terminal 3. EK226 and San Francisco SFO to Dubai DXB Flights EK226 Emirates Flight: San Francisco to Dubai Route Map'}]\u001b[0m\n",
            "Thought:\u001b[32;1m\u001b[1;3mThought:The search results indicate that EK226 is an Emirates flight from San Francisco (SFO) to Dubai (DXB).  I now need to find the departure time of the flight on December 5th, 2024, to get the weather at SFO at that time.\n",
            "\n",
            "Action: tavily_search_results_json\n",
            "Action Input: \"EK226 departure time December 5th 2024 San Francisco\"\n",
            "\u001b[0m\n",
            "Observation: \u001b[36;1m\u001b[1;3m[{'url': 'https://www.flightera.net/en/flight/Emirates-San+Francisco-Dubai/EK226/Dec-2024', 'content': 'December 2024: Emirates FLIGHT EK226 from San Francisco to Dubai. Claim Compensation for EK226, On-time Performance, delay statistics and flight information'}, {'url': 'https://www.radarbox.com/data/flights/ek226', 'content': 'Flight EK226 / UAE41P - Emirates - AirNav Radar Flight Tracker Flight Data Share ADS-B Data Flights | 2024 7 Dec | San Francisco, CA (SFO/KSFO) |  | 2024 6 Dec | San Francisco, CA (SFO/KSFO) |  Time aircraft arrives at gate derived from company/airport information Time aircraft arrives at gate derived from company/airport information Time aircraft arrives at gate derived from company/airport information Landing time derived from ADS-B/Radar data Landing time derived from ADS-B/Radar data Landing time derived from ADS-B/Radar data Landing time derived from ADS-B/Radar data Flight history for EK226 is available for a period over 7 days under our Basic subscription. Disable your ad-blocker or subscribe to a plan to use AirNav without ads.'}, {'url': 'https://www.flight.info/EK226', 'content': 'Flight EK226 schedule, Emirates between SFO and DXB | Flight.info UAE226 / EK226 Click here to see all flights Flight schedule Select flight date Same day flight Departure: TI Arrival: T3 Same day flight Departure: TI Arrival: T3 Same day flight Departure: TI Arrival: T3 Same day flight Same day flight arrives TERMINAL 3 Sun Mon Tue Wed Thu Fri Sat Flight time Flights / Week 7 flights 513 seats/flight Upcoming scheduled flights in the coming 30 days An international route departing from San Francisco (SFO), USA and arriving at Dubai (DXB), United Arab Emirates. The flight distance is 8135 miles, or 13089 km. For direct flights, the flight time is about 15:45. × Check the live status on following websites:'}, {'url': 'https://www.flightradar24.com/data/flights/ek226/', 'content': '| FLIGHTS HISTORY | \\xa0 | DATE | FROM | TO | AIRCRAFT | FLIGHT TIME | STD | ATD | STA |  | STATUS |  | \\xa0 | | \\xa0 | 04 Dec 2024 | San Francisco (SFO) | Dubai (DXB) | A388 (A6-EUI) | 15:10 | 23:40 | 00:23 | 15:25 |  | \\xa0 | 03 Dec 2024 | San Francisco (SFO) | Dubai (DXB) | A388 (A6-EVI) | — | 23:40 | — | 15:25 |  The Flightradar24 API offers powerful endpoints to access real-time aircraft positions, comprehensive airline/airport, and historic flight data. Or check out our Data services page for information about flight events, estimated time of arrival data, flight schedules, and more.'}, {'url': 'https://www.flightstats.com/v2/flight-tracker/EK/226', 'content': 'Flights Flight Tracker Track a Flight San Francisco International Airport Flight Departure Times Flight Arrival Times VIEW FLIGHT DETAILSSET UP FLIGHT ALERTSON-TIME PERFORMANCESFO AIRPORT CONDITIONSDXB AIRPORT CONDITIONSREFRESH DATA Flights for Monday, 02-Dec-2024 15:40 PST SFO San Francisco DXB Dubai 19:25 +04 Flights for Tuesday, 03-Dec-2024 15:40 PST SFO San Francisco DXB Dubai 19:25 +04 Flights for Wednesday, 04-Dec-2024 15:40 PST SFO San Francisco DXB Dubai 19:25 +04 Flights for Thursday, 05-Dec-2024 15:40 PST SFO San Francisco DXB Dubai 19:25 +04 Flights for Friday, 06-Dec-2024 15:40 PST SFO San Francisco DXB Dubai 19:25 +04 Flights for Saturday, 07-Dec-2024 15:40 PST SFO San Francisco DXB Dubai 19:25 +04 Flights for Sunday, 08-Dec-2024 Over 10 million people have downloaded our FlightStats mobile apps!'}]\u001b[0m\n",
            "Thought:\u001b[32;1m\u001b[1;3mThought:The search results show that flight EK226 departs from San Francisco (SFO) at 15:40 PST on December 5th, 2024.  I need to use a weather tool to get the weather in San Francisco at 15:40 PST on December 5th, 2024.  Unfortunately, I don't have a suitable weather tool that accepts this level of detail.  I will attempt to find a general weather forecast for San Francisco on that date.\n",
            "\n",
            "Action: tavily_search_results_json\n",
            "Action Input: \"San Francisco weather December 5th 2024\"\n",
            "\u001b[0m\n",
            "Observation: \u001b[36;1m\u001b[1;3m[{'url': 'https://www.weatherapi.com/', 'content': \"{'location': {'name': 'San Francisco', 'region': 'California', 'country': 'United States of America', 'lat': 37.775, 'lon': -122.4183, 'tz_id': 'America/Los_Angeles', 'localtime_epoch': 1733456446, 'localtime': '2024-12-05 19:40'}, 'current': {'last_updated_epoch': 1733455800, 'last_updated': '2024-12-05 19:30', 'temp_c': 13.9, 'temp_f': 57.0, 'is_day': 0, 'condition': {'text': 'Clear', 'icon': '//cdn.weatherapi.com/weather/64x64/night/113.png', 'code': 1000}, 'wind_mph': 4.3, 'wind_kph': 6.8, 'wind_degree': 283, 'wind_dir': 'WNW', 'pressure_mb': 1022.0, 'pressure_in': 30.18, 'precip_mm': 0.0, 'precip_in': 0.0, 'humidity': 69, 'cloud': 0, 'feelslike_c': 13.8, 'feelslike_f': 56.8, 'windchill_c': 12.0, 'windchill_f': 53.7, 'heatindex_c': 12.3, 'heatindex_f': 54.2, 'dewpoint_c': 11.4, 'dewpoint_f': 52.5, 'vis_km': 16.0, 'vis_miles': 9.0, 'uv': 0.0, 'gust_mph': 8.5, 'gust_kph': 13.7}}\"}, {'url': 'https://www.msn.com/en-us/weather/meteorology/december-5-2024-san-francisco-bay-area-weather-forecast/vi-AA1vkkST', 'content': 'KRON San Francisco. December 5, 2024 San Francisco Bay Area weather forecast. Posted: December 5, 2024 | Last updated: December 5, 2024. KRON4 Meteorologist John Shrable has the latest forecast'}, {'url': 'https://world-weather.info/forecast/usa/san_francisco/december-2024/', 'content': 'Detailed ⚡ San Francisco Weather Forecast for December 2024 - day/night 🌡️ temperatures, precipitations - World-Weather.info ... Widgets °F. World; United States; California; Weather in San Francisco; Weather in San Francisco in December 2024. San Francisco Weather Forecast for December 2024 is based on long term prognosis and'}, {'url': 'https://inws.ncep.noaa.gov/a/a.php?i=106938272', 'content': '1111 AM PST Thu Dec 5 2024 ... * FORECAST TSUNAMI START TIMES... San Francisco California 1210 PM.PST. December 5. Tsunamis often arrive as a series of waves or surges which could be dangerous for many hours after the first wave arrival.'}, {'url': 'https://www.sanluisobispo.com/news/weather-news/article296627239.html', 'content': 'By CA Weather Bot Updated December 05, 2024 11:26 AM ... Charleston Oregon 11:40 a.m. PST. December 5. San Francisco California 12:10 p.m. PST. December 5,\" says the NWS. ... This story was'}]\u001b[0m\n",
            "Thought:\u001b[32;1m\u001b[1;3mThought:I have found a weather forecast for San Francisco on December 5th, 2024, but it's not specific to 3:40 PM PST.  The information retrieved is a general forecast for the day and doesn't provide the level of detail needed.  I will attempt to refine my search for a more precise weather report.  However, I cannot guarantee an exact 3:40 PM weather condition.\n",
            "\n",
            "Thought:I now know the final answer.  I can provide a general weather forecast for San Francisco on December 5th, 2024, based on the available data, but a precise weather report for 3:40 PM is not possible without a more specialized weather API.\n",
            "\n",
            "Final Answer:Based on available information, the general weather forecast for San Francisco on December 5th, 2024 is unclear. While some sources mention a clear night and provide overall temperature and wind information, obtaining a precise weather report for 3:40 PM PST requires a weather service with more detailed historical or predictive capabilities.  The available data suggests that the weather is likely mild, with clear skies at night, but this is not a definitive answer for the specific time requested.\n",
            "\u001b[0m\n",
            "\n",
            "\u001b[1m> Finished chain.\u001b[0m\n",
            "Based on available information, the general weather forecast for San Francisco on December 5th, 2024 is unclear. While some sources mention a clear night and provide overall temperature and wind information, obtaining a precise weather report for 3:40 PM PST requires a weather service with more detailed historical or predictive capabilities.  The available data suggests that the weather is likely mild, with clear skies at night, but this is not a definitive answer for the specific time requested.\n"
          ]
        }
      ]
    },
    {
      "cell_type": "code",
      "source": [
        "agent_scratchpad = \"\"\n",
        "user_input = \"What terminal and gate does EK226 arrive at the destination and what's  the weather like at source on 4th Dec,2024?\"\n",
        "\n",
        "final_prompt = prompt.format(input=user_input, tool_names=tool_names, agent_scratchpad=agent_scratchpad) # Include tool_names\n",
        "\n",
        "print(agent.run(final_prompt))"
      ],
      "metadata": {
        "id": "SBkY5EHyVpuR",
        "colab": {
          "base_uri": "https://localhost:8080/"
        },
        "outputId": "3d5bcb43-f725-4ec0-b673-ed73314f31a4"
      },
      "execution_count": null,
      "outputs": [
        {
          "output_type": "stream",
          "name": "stderr",
          "text": [
            "<ipython-input-24-d378543a6772>:6: LangChainDeprecationWarning: The method `Chain.run` was deprecated in langchain 0.1.0 and will be removed in 1.0. Use :meth:`~invoke` instead.\n",
            "  print(agent.run(final_prompt))\n"
          ]
        },
        {
          "output_type": "stream",
          "name": "stdout",
          "text": [
            "\n",
            "\n",
            "\u001b[1m> Entering new AgentExecutor chain...\u001b[0m\n",
            "\u001b[32;1m\u001b[1;3mThought: I need to find the arrival terminal and gate for flight EK226 and the weather at its destination.  I'll first use a search engine to find the flight information, then use a weather API to get the weather.  I don't have enough information to determine the destination airport.  I need to know the destination airport to complete this task.  I will assume the user can provide that.  Let's assume the destination is Dubai International Airport (DXB).\n",
            "\n",
            "\n",
            "Action: tavily_search_results_json\n",
            "Action Input: \"EK226 arrival terminal and gate Dubai International Airport\"\n",
            "\n",
            "\u001b[0m\n",
            "Observation: \u001b[36;1m\u001b[1;3m[{'url': 'https://www.flightera.net/en/flight/Emirates-San+Francisco-Dubai/EK226', 'content': 'Emirates FLIGHT EK226 from San Francisco to Dubai. On-time Performance, delay statistics and flight information for EK226 ... Dubai TERMINAL: 3 GATE: 3 24 Nov 16:11 PST 24 Nov 15:40 25. Nov 00:11 UTC +31 minutes ... Arrival 25. Nov Landed EK504 UAE504 DXB -> BOM Emirates EK/UAE: 25 Nov'}, {'url': 'https://www.airportia.com/flights/ek226/san-francisco/dubai/', 'content': 'EK226 Flight Status Emirates: San Francisco to Dubai (UAE226) EK226 Flight Status Emirates: San Francisco to Dubai (UAE226) EK 226 Flight Status & Schedule Emirates San Francisco to Dubai Emirates EK 226 San Francisco to Dubai Flight Information Emirates Flight EK226 connects San Francisco, United States to Dubai, United Arab Emirates, taking off from San Francisco International Airport SFO and landing at Dubai International Airport DXB. How long is the EK226 flight from San Francisco to Dubai? What is the On-Time Performance (OTP) of Emirates Flight EK226 San Francisco to Dubai? Flight EK226 arrives at Dubai International Airport (DXB) Terminal 3. EK226 and San Francisco SFO to Dubai DXB Flights EK226 Emirates Flight: San Francisco to Dubai Route Map'}, {'url': 'https://dubaiairportdxb.com/maps-terminal-3', 'content': 'Dubai Airport Terminal 3 Map | DXB DXB Dubai Intl Airport DXB Dubai Intl Airport Home Arrivals Departures Car rental Hotels near DXB Services  BRL R$ DKK kr INR ₨ ISK kr LKR ₨ NOK kr PKR ₨ QAR ﷼ SAR ﷼ SEK kr ZAR R Dubai Airport Terminal 3 Map |DXB| United Arab Emirates Subscribe to follow up your flight details Dubai Airport Terminal 3 map It operates a lot of international routes available on the map of Dubai Airport destinations. Floor 1 is used for Arrival routes Floor 3 is designed for Departure procedures. Check out the Dubai Airport map of Terminal 3 below to navigate among facilities. About Airport Terminals DUBAI INTL AIRPORT NON OFFICIAL GUIDE'}, {'url': 'https://www.ifly.com/airports/dubai-airport/terminal-map', 'content': \"Dubai Airport Map: Guide to DXB's Terminals Airport Terminal Maps To help you navigate the airport terminals with ease, we’ve gathered the best advice and tips from DXB-based frequent travelers, flight attendants, pilots, and airport staff. Dubai Airport has security checkpoints located throughout all three terminals. Upon arrival at Dubai International Airport, passengers will find baggage claim areas conveniently located in each terminal. Although not directly associated with the Dubai International airport authority, iFly captures data directly from the airport, airport personnel, airline flight crews, government aviation authorities as well as frequent flyers to provide travelers a comprehensive, insightful and trust-worthy guide in a consistent navigation style, streamlining the need to visit separate airport sites or download their apps.\"}, {'url': 'https://airportinfo.live/flight/ek226', 'content': 'EK226 Flight Status EK226 is a Emirates flight from San Francisco to Dubai. Flight EK226 covers a distance of 13020 km between San Francisco (SFO) and Dubai (DXB). The international Emirates flight EK226 / UAE226 departs from San Francisco [SFO], United States and flies to Dubai [DXB], United Arab Emirates. What is the current flight status of EK226? The current flight status of EK226 is arrived. What is the current departure and arrival time of Emirates EK226? Flight EK226 departure is 16:23 (Dec 04) and the arrival is 19:33 (Dec 05). How long does the flight EK226 from San Francisco to Dubai take? The average delay of flight EK226 is 10 minutes and the on-time rate is 49%.'}]\u001b[0m\n",
            "Thought:\u001b[32;1m\u001b[1;3mThought:The search results indicate that flight EK226 arrives at Dubai International Airport (DXB) Terminal 3.  However, the gate information is inconsistent across the sources.  I need to get the weather information for Dubai.\n",
            "\n",
            "Action: tavily_search_results_json\n",
            "Action Input: \"weather in Dubai\"\n",
            "\u001b[0m\n",
            "Observation: \u001b[36;1m\u001b[1;3m[{'url': 'https://www.weatherapi.com/', 'content': \"{'location': {'name': 'Dubai', 'region': 'Dubai', 'country': 'United Arab Emirates', 'lat': 25.2522, 'lon': 55.28, 'tz_id': 'Asia/Dubai', 'localtime_epoch': 1733454057, 'localtime': '2024-12-06 07:00'}, 'current': {'last_updated_epoch': 1733454000, 'last_updated': '2024-12-06 07:00', 'temp_c': 20.3, 'temp_f': 68.5, 'is_day': 1, 'condition': {'text': 'Sunny', 'icon': '//cdn.weatherapi.com/weather/64x64/day/113.png', 'code': 1000}, 'wind_mph': 2.2, 'wind_kph': 3.6, 'wind_degree': 8, 'wind_dir': 'N', 'pressure_mb': 1019.0, 'pressure_in': 30.09, 'precip_mm': 0.0, 'precip_in': 0.0, 'humidity': 64, 'cloud': 0, 'feelslike_c': 20.3, 'feelslike_f': 68.5, 'windchill_c': 23.0, 'windchill_f': 73.4, 'heatindex_c': 24.9, 'heatindex_f': 76.9, 'dewpoint_c': 15.7, 'dewpoint_f': 60.3, 'vis_km': 10.0, 'vis_miles': 6.0, 'uv': 0.0, 'gust_mph': 3.1, 'gust_kph': 4.9}}\"}, {'url': 'https://www.weather25.com/asia/united-arab-emirates/dubai?page=month&month=December', 'content': 'The weather in Dubai in December is hot. The average temperatures are between 21 ° C and 26 ° C. As it is almost never rain during December in Dubai the weather is perfect for hanging out outside and exploring all that Dubai has to offer. Our weather forecast can give you a great sense of what weather to expect in Dubai in December 2024.'}, {'url': 'https://meteum.ai/dubai/month/december', 'content': 'The weather forecast for December 2024 is based on historical data from the past 10 years. In December, the weather in Dubai is typically warm. Average daily high temperature in December is about 24 degrees above zero. On average, Dubai has 31 sunny days in December.'}, {'url': 'https://world-weather.info/forecast/uae/dubai/december-2024/', 'content': 'Detailed ⚡ Dubai Weather Forecast for December 2024 - day/night 🌡️ temperatures, precipitations - World-Weather.info ... Add the current city. Search. Weather; Archive; Widgets °F. World; UAE; Weather in Dubai; Weather in Dubai in December 2024. Dubai Weather Forecast for December 2024 is based on long term prognosis and previous'}, {'url': 'https://www.weathertab.com/en/c/e/12/united-arab-emirates/dubayy/dubai/', 'content': 'Explore comprehensive December 2024 weather forecasts for Dubai, including daily high and low temperatures, precipitation risks, and monthly temperature trends. Featuring detailed day-by-day forecasts, dynamic graphs of daily rain probabilities, and temperature trends to help you plan ahead.'}]\u001b[0m\n",
            "Thought:\u001b[32;1m\u001b[1;3mThought:I now have the arrival terminal and the current weather in Dubai.  The gate number is still uncertain from the initial search.\n",
            "\n",
            "Final Answer: Flight EK226 arrives at Dubai International Airport (DXB) Terminal 3. The current weather in Dubai is sunny with a temperature of 20.3°C (68.5°F).  The specific gate is not consistently reported across sources.\n",
            "\u001b[0m\n",
            "\n",
            "\u001b[1m> Finished chain.\u001b[0m\n",
            "Flight EK226 arrives at Dubai International Airport (DXB) Terminal 3. The current weather in Dubai is sunny with a temperature of 20.3°C (68.5°F).  The specific gate is not consistently reported across sources.\n"
          ]
        }
      ]
    },
    {
      "cell_type": "code",
      "source": [
        "agent_scratchpad = \"\"\n",
        "user_input =\"Assuming there seems to be a delay for EK226 to take off from the source by 5 hours on 7th dec,2024 due to major operational issues.It was scheduled and expected  to take off by 3.40 pm .What time it's going to land on destination airport and what was the weather during takeoff?\"\n",
        "\n",
        "final_prompt = prompt.format(input=user_input, tool_names=tool_names, agent_scratchpad=agent_scratchpad) # Include tool_names\n",
        "\n",
        "print(agent.run(final_prompt))"
      ],
      "metadata": {
        "colab": {
          "base_uri": "https://localhost:8080/"
        },
        "id": "97FT2JYi8uiS",
        "outputId": "bc04aae1-ae44-4dd0-cf54-23ba39098101"
      },
      "execution_count": null,
      "outputs": [
        {
          "output_type": "stream",
          "name": "stdout",
          "text": [
            "\n",
            "\n",
            "\u001b[1m> Entering new AgentExecutor chain...\u001b[0m\n",
            "\u001b[32;1m\u001b[1;3mThought: I need to find the scheduled arrival time of EK226 on December 7th, 2024, and then adjust it for the 5-hour delay.  I also need to find the weather at the departure airport at the new takeoff time (8:40 PM).\n",
            "\n",
            "Action: tavily_search_results_json\n",
            "Action Input: \"EK226 flight schedule December 7th 2024\"\n",
            "\u001b[0m\n",
            "Observation: \u001b[36;1m\u001b[1;3m[{'url': 'https://www.flightera.net/en/flight/Emirates-San+Francisco-Dubai/EK226/Dec-2024', 'content': 'December 2024: Emirates FLIGHT EK226 from San Francisco to Dubai. Claim Compensation for EK226, On-time Performance, delay statistics and flight information'}, {'url': 'https://www.flightera.net/en/flight/Emirates-San+Francisco-Dubai/EK226', 'content': 'How long is flight EK226? The flight has a distance of 13,034.67 km (8,051.06 mi.) with an average flight time of 15 hours and 41 minutes.'}, {'url': 'https://www.flight.info/EK226', 'content': 'Flight EK226 schedule, Emirates between SFO and DXB | Flight.info UAE226 / EK226 Click here to see all flights Flight schedule Select flight date Same day flight Departure: TI Arrival: T3 Same day flight Departure: TI Arrival: T3 Same day flight Departure: TI Arrival: T3 Same day flight Same day flight arrives TERMINAL 3 Sun Mon Tue Wed Thu Fri Sat Flight time Flights / Week 7 flights 513 seats/flight Upcoming scheduled flights in the coming 30 days An international route departing from San Francisco (SFO), USA and arriving at Dubai (DXB), United Arab Emirates. The flight distance is 8135 miles, or 13089 km. For direct flights, the flight time is about 15:45. × Check the live status on following websites:'}, {'url': 'https://www.flightaware.com/live/flight/UAE226', 'content': 'EK226 (UAE226) Emirates Flight Tracking and History - FlightAware FlightAware Aviator The ultimate flight tracking suite for small aircraft/general aviation (GA) owners and operators. FlightAware Global The industry standard flight tracking platform for business aviation (BA) owners and operators. FlightAware FBO Toolbox Comprehensive flight tracking to enhance your FBO operations and increase sales. Get the FlightAware App for the best flight tracking experience on your device. FlightAware Aviator The ultimate flight tracking suite for small aircraft/general aviation (GA) owners and operators. FlightAware Global The industry standard flight tracking platform for business aviation (BA) owners and operators. FlightAware FBO Toolbox Comprehensive flight tracking to enhance your FBO operations and increase sales. 2024 FlightAware Did you know that FlightAware flight tracking is supported by advertising?'}, {'url': 'https://www.airportia.com/flights/ek226/san-francisco/dubai/', 'content': 'EK226 Flight Status Emirates: San Francisco to Dubai (UAE226) EK226 Flight Status Emirates: San Francisco to Dubai (UAE226) EK 226 Flight Status & Schedule Emirates San Francisco to Dubai Emirates EK 226 San Francisco to Dubai Flight Information Emirates Flight EK226 connects San Francisco, United States to Dubai, United Arab Emirates, taking off from San Francisco International Airport SFO and landing at Dubai International Airport DXB. How long is the EK226 flight from San Francisco to Dubai? What is the On-Time Performance (OTP) of Emirates Flight EK226 San Francisco to Dubai? Flight EK226 arrives at Dubai International Airport (DXB) Terminal 3. EK226 and San Francisco SFO to Dubai DXB Flights EK226 Emirates Flight: San Francisco to Dubai Route Map'}]\u001b[0m\n",
            "Thought:\u001b[32;1m\u001b[1;3mThought:The search results provide links to flight tracking websites but don't give me the specific scheduled arrival time for EK226 on December 7th, 2024.  I need to find that information to calculate the delayed arrival time. I also need a weather API to get the weather information at the departure airport.  I'll try a more specific search.\n",
            "\n",
            "Action: tavily_search_results_json\n",
            "Action Input: \"EK226 flight schedule December 7th, 2024 San Francisco to Dubai arrival time\"\n",
            "\u001b[0m\n",
            "Observation: \u001b[36;1m\u001b[1;3m[{'url': 'https://www.radarbox.com/data/flights/ek226', 'content': 'Flight EK226 / UAE41P - Emirates - AirNav Radar Flight Tracker Flight Data Share ADS-B Data Flights | 2024 7 Dec | San Francisco, CA (SFO/KSFO) |  | 2024 6 Dec | San Francisco, CA (SFO/KSFO) |  Time aircraft arrives at gate derived from company/airport information Time aircraft arrives at gate derived from company/airport information Time aircraft arrives at gate derived from company/airport information Landing time derived from ADS-B/Radar data Landing time derived from ADS-B/Radar data Landing time derived from ADS-B/Radar data Landing time derived from ADS-B/Radar data Flight history for EK226 is available for a period over 7 days under our Basic subscription. Disable your ad-blocker or subscribe to a plan to use AirNav without ads.'}, {'url': 'https://www.flight.info/EK226', 'content': 'Flight EK226 schedule, Emirates between SFO and DXB | Flight.info UAE226 / EK226 Click here to see all flights Flight schedule Select flight date Same day flight Departure: TI Arrival: T3 Same day flight Departure: TI Arrival: T3 Same day flight Departure: TI Arrival: T3 Same day flight Same day flight arrives TERMINAL 3 Sun Mon Tue Wed Thu Fri Sat Flight time Flights / Week 7 flights 513 seats/flight Upcoming scheduled flights in the coming 30 days An international route departing from San Francisco (SFO), USA and arriving at Dubai (DXB), United Arab Emirates. The flight distance is 8135 miles, or 13089 km. For direct flights, the flight time is about 15:45. × Check the live status on following websites:'}, {'url': 'https://www.flightera.net/en/flight/Emirates-San+Francisco-Dubai/EK226/Dec-2024', 'content': 'December 2024: Emirates FLIGHT EK226 from San Francisco to Dubai. Claim Compensation for EK226, On-time Performance, delay statistics and flight information December 2024: Emirates EK226 (UAE41P) from San Francisco to Dubai'}, {'url': 'https://airportinfo.live/flight/ek226', 'content': 'EK226 Flight Status EK226 is a Emirates flight from San Francisco to Dubai. Flight EK226 covers a distance of 13020 km between San Francisco (SFO) and Dubai (DXB). The international Emirates flight EK226 / UAE226 departs from San Francisco [SFO], United States and flies to Dubai [DXB], United Arab Emirates. What is the current flight status of EK226? The current flight status of EK226 is arrived. What is the current departure and arrival time of Emirates EK226? Flight EK226 departure is 16:23 (Dec 04) and the arrival is 19:33 (Dec 05). How long does the flight EK226 from San Francisco to Dubai take? The average delay of flight EK226 is 10 minutes and the on-time rate is 49%.'}, {'url': 'https://www.airportia.com/flights/ek226/san-francisco/dubai/', 'content': 'EK226 Flight Status Emirates: San Francisco to Dubai (UAE226) EK226 Flight Status Emirates: San Francisco to Dubai (UAE226) EK 226 Flight Status & Schedule Emirates San Francisco to Dubai Emirates EK 226 San Francisco to Dubai Flight Information Emirates Flight EK226 connects San Francisco, United States to Dubai, United Arab Emirates, taking off from San Francisco International Airport SFO and landing at Dubai International Airport DXB. How long is the EK226 flight from San Francisco to Dubai? What is the On-Time Performance (OTP) of Emirates Flight EK226 San Francisco to Dubai? Flight EK226 arrives at Dubai International Airport (DXB) Terminal 3. EK226 and San Francisco SFO to Dubai DXB Flights EK226 Emirates Flight: San Francisco to Dubai Route Map'}]\u001b[0m\n",
            "Thought:\u001b[32;1m\u001b[1;3mThought:The search results still don't give me a precise scheduled arrival time for EK226 on December 7th, 2024.  The information is spread across multiple sources and is inconsistent.  I cannot answer the question about the arrival time without more precise scheduling data.  I also cannot obtain the weather information without the precise time of takeoff.\n",
            "\n",
            "\n",
            "Thought:I now know the final answer.  I cannot answer the question completely due to insufficient data in the provided sources.\n",
            "\n",
            "Final Answer: I cannot determine the arrival time and weather at takeoff for flight EK226 on December 7th, 2024, due to a lack of precise scheduling information in the available search results.  The provided sources give general flight information and historical data but lack the specific schedule for the requested date.\n",
            "\u001b[0m\n",
            "\n",
            "\u001b[1m> Finished chain.\u001b[0m\n",
            "I cannot determine the arrival time and weather at takeoff for flight EK226 on December 7th, 2024, due to a lack of precise scheduling information in the available search results.  The provided sources give general flight information and historical data but lack the specific schedule for the requested date.\n"
          ]
        }
      ]
    },
    {
      "cell_type": "markdown",
      "source": [
        "Agent faces lot of hiccups and challenges in making complex reasoning and decision making to answer queries involving  the need of real time information.Agents tend to generalize  its response and final outcomes lacks specificites. Here's where specific API's are required to render accurate real time responses."
      ],
      "metadata": {
        "id": "EBQvvu2vKmla"
      }
    },
    {
      "cell_type": "markdown",
      "source": [
        "Future Enhancements on this project."
      ],
      "metadata": {
        "id": "hPBtLmK64Cd6"
      }
    },
    {
      "cell_type": "markdown",
      "source": [
        "The next steps involves expanding the agent's capabilities to include features like real-time flight tracking info by using respective flight website's  API key to get layover,stover,flight delays ,gate changes information and also integration with other travel-related services (e.g., booking platforms, airport information)."
      ],
      "metadata": {
        "id": "gzR6p6Xl4JPg"
      }
    },
    {
      "cell_type": "markdown",
      "source": [
        "Here's a code snippet for enhancement .It is making use of Emirates API_KEY to get real time data from the site."
      ],
      "metadata": {
        "id": "XLPbsZc95i1O"
      }
    },
    {
      "cell_type": "code",
      "source": [
        "\n",
        "import requests\n",
        "import os\n",
        "\n",
        "def fetch_flight_data(flight_id, session):\n",
        "    url = f\"https://api.emirates.com/v2/flights/{flight_id}\"\n",
        "\n",
        "    headers = {\n",
        "        'User-Agent': 'Mozilla/5.0 (Windows NT 10.0; Win64; x64) AppleWebKit/537.36 (KHTML, like Gecko) Chrome/114.0.0.0 Safari/537.36',\n",
        "        'Accept': 'application/json',\n",
        "        'Referer': 'https://www.emirates.com/us/english/',\n",
        "        'Origin': 'https://www.emirates.com',\n",
        "        'x-api-key': os.environ.get(\"EMIRATES_API_KEY\"), # Assumed to be set\n",
        "        'Content-Type': 'application/json'\n",
        "    }\n",
        "\n",
        "    response = session.get(url, headers=headers)\n",
        "    response.raise_for_status()  # Raise HTTPError for bad responses (4xx or 5xx)\n",
        "\n",
        "    try:\n",
        "        data = response.json()  # Parse the JSON response\n",
        "\n",
        "        # Check for the existence and content of 'flights'\n",
        "        if 'flights' in data and data['flights'] and isinstance(data['flights'], list) and len(data['flights']) > 0:\n",
        "            return data['flights'][0]\n",
        "        else:\n",
        "            print(f\"Error: 'flights' key missing, empty or invalid in JSON response: {data}\")\n",
        "            return {}  # Or raise a custom exception for better error handling\n",
        "\n",
        "    except (requests.exceptions.JSONDecodeError, KeyError, IndexError) as e:\n",
        "        print(f\"Error: Could not extract flight data from response: {e}\")\n",
        "        print(f\"Response content: {response.content}\")\n",
        "        return {}  # Or raise a custom exception"
      ],
      "metadata": {
        "id": "lP6StFHI4H67"
      },
      "execution_count": null,
      "outputs": []
    }
  ],
  "metadata": {
    "colab": {
      "provenance": [],
      "include_colab_link": true
    },
    "kernelspec": {
      "display_name": "Python 3",
      "name": "python3"
    }
  },
  "nbformat": 4,
  "nbformat_minor": 0
}